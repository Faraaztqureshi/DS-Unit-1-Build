{
  "nbformat": 4,
  "nbformat_minor": 0,
  "metadata": {
    "colab": {
      "name": "Faraaz_Qureshi_Build_Week1.ipynb",
      "provenance": [],
      "include_colab_link": true
    },
    "kernelspec": {
      "name": "python3",
      "display_name": "Python 3"
    }
  },
  "cells": [
    {
      "cell_type": "markdown",
      "metadata": {
        "id": "view-in-github",
        "colab_type": "text"
      },
      "source": [
        "<a href=\"https://colab.research.google.com/github/Faraaztqureshi/DS-Unit-1-Build/blob/master/Faraaz_Qureshi_Build_Week1.ipynb\" target=\"_parent\"><img src=\"https://colab.research.google.com/assets/colab-badge.svg\" alt=\"Open In Colab\"/></a>"
      ]
    },
    {
      "cell_type": "markdown",
      "metadata": {
        "id": "ylYnej6OjyrI",
        "colab_type": "text"
      },
      "source": [
        "# Data Preprocessing"
      ]
    },
    {
      "cell_type": "code",
      "metadata": {
        "id": "SLoNr_LsdrtK",
        "colab_type": "code",
        "colab": {}
      },
      "source": [
        "## This is my notebook for analyzing and making visuals \n",
        "## I am looking at SAT data from LAUSD from 2015-2016\n",
        "## lets get the libraries first\n",
        "import numpy as np\n",
        "import pandas as pd\n",
        "import matplotlib.pyplot as plt\n",
        "import seaborn as sns\n",
        "% matplotlib inline "
      ],
      "execution_count": 0,
      "outputs": []
    },
    {
      "cell_type": "code",
      "metadata": {
        "id": "D3rs-Z4OeXRU",
        "colab_type": "code",
        "colab": {}
      },
      "source": [
        "## now lets import the data set\n",
        "## keep an original in case I mess something up later\n",
        "df = pd.read_csv('sat_report3.csv')\n",
        "original_df = pd.read_csv('sat_report3.csv')"
      ],
      "execution_count": 0,
      "outputs": []
    },
    {
      "cell_type": "code",
      "metadata": {
        "id": "r5ObCf5wexFi",
        "colab_type": "code",
        "outputId": "942cd814-dad4-4602-e4f8-a9ab88eedabc",
        "colab": {
          "base_uri": "https://localhost:8080/",
          "height": 51
        }
      },
      "source": [
        "print(df.shape)\n",
        "print(original_df.shape)"
      ],
      "execution_count": 3,
      "outputs": [
        {
          "output_type": "stream",
          "text": [
            "(2334, 13)\n",
            "(2334, 13)\n"
          ],
          "name": "stdout"
        }
      ]
    },
    {
      "cell_type": "code",
      "metadata": {
        "id": "NKttAQfseyG2",
        "colab_type": "code",
        "outputId": "8f593ab7-8eff-416d-d643-da40a14baa48",
        "colab": {
          "base_uri": "https://localhost:8080/",
          "height": 343
        }
      },
      "source": [
        "## inspect the data\n",
        "df.head()"
      ],
      "execution_count": 4,
      "outputs": [
        {
          "output_type": "execute_result",
          "data": {
            "text/html": [
              "<div>\n",
              "<style scoped>\n",
              "    .dataframe tbody tr th:only-of-type {\n",
              "        vertical-align: middle;\n",
              "    }\n",
              "\n",
              "    .dataframe tbody tr th {\n",
              "        vertical-align: top;\n",
              "    }\n",
              "\n",
              "    .dataframe thead th {\n",
              "        text-align: right;\n",
              "    }\n",
              "</style>\n",
              "<table border=\"1\" class=\"dataframe\">\n",
              "  <thead>\n",
              "    <tr style=\"text-align: right;\">\n",
              "      <th></th>\n",
              "      <th>cds</th>\n",
              "      <th>rtype</th>\n",
              "      <th>sname</th>\n",
              "      <th>dname</th>\n",
              "      <th>cname</th>\n",
              "      <th>enroll12</th>\n",
              "      <th>NumTstTakr</th>\n",
              "      <th>AvgScrRead</th>\n",
              "      <th>AvgScrMath</th>\n",
              "      <th>AvgScrWrit</th>\n",
              "      <th>NumGE1500</th>\n",
              "      <th>PctGE1500</th>\n",
              "      <th>year</th>\n",
              "    </tr>\n",
              "  </thead>\n",
              "  <tbody>\n",
              "    <tr>\n",
              "      <th>0</th>\n",
              "      <td>0</td>\n",
              "      <td>X</td>\n",
              "      <td>NaN</td>\n",
              "      <td>NaN</td>\n",
              "      <td>NaN</td>\n",
              "      <td>492835</td>\n",
              "      <td>214262</td>\n",
              "      <td>484</td>\n",
              "      <td>494</td>\n",
              "      <td>477</td>\n",
              "      <td>89840</td>\n",
              "      <td>41.93</td>\n",
              "      <td>1516</td>\n",
              "    </tr>\n",
              "    <tr>\n",
              "      <th>1</th>\n",
              "      <td>1000000000000</td>\n",
              "      <td>C</td>\n",
              "      <td>NaN</td>\n",
              "      <td>NaN</td>\n",
              "      <td>Alameda</td>\n",
              "      <td>16662</td>\n",
              "      <td>8611</td>\n",
              "      <td>517</td>\n",
              "      <td>534</td>\n",
              "      <td>515</td>\n",
              "      <td>4696</td>\n",
              "      <td>54.53</td>\n",
              "      <td>1516</td>\n",
              "    </tr>\n",
              "    <tr>\n",
              "      <th>2</th>\n",
              "      <td>1100170000000</td>\n",
              "      <td>D</td>\n",
              "      <td>NaN</td>\n",
              "      <td>Alameda County Office of Education</td>\n",
              "      <td>Alameda</td>\n",
              "      <td>263</td>\n",
              "      <td>95</td>\n",
              "      <td>395</td>\n",
              "      <td>378</td>\n",
              "      <td>388</td>\n",
              "      <td>6</td>\n",
              "      <td>6.32</td>\n",
              "      <td>1516</td>\n",
              "    </tr>\n",
              "    <tr>\n",
              "      <th>3</th>\n",
              "      <td>1100170112607</td>\n",
              "      <td>S</td>\n",
              "      <td>Envision Academy for Arts &amp; Technology</td>\n",
              "      <td>Alameda County Office of Education</td>\n",
              "      <td>Alameda</td>\n",
              "      <td>88</td>\n",
              "      <td>92</td>\n",
              "      <td>391</td>\n",
              "      <td>376</td>\n",
              "      <td>386</td>\n",
              "      <td>5</td>\n",
              "      <td>5.43</td>\n",
              "      <td>1516</td>\n",
              "    </tr>\n",
              "    <tr>\n",
              "      <th>4</th>\n",
              "      <td>1611190000000</td>\n",
              "      <td>D</td>\n",
              "      <td>NaN</td>\n",
              "      <td>Alameda Unified</td>\n",
              "      <td>Alameda</td>\n",
              "      <td>858</td>\n",
              "      <td>472</td>\n",
              "      <td>527</td>\n",
              "      <td>543</td>\n",
              "      <td>514</td>\n",
              "      <td>301</td>\n",
              "      <td>63.77</td>\n",
              "      <td>1516</td>\n",
              "    </tr>\n",
              "  </tbody>\n",
              "</table>\n",
              "</div>"
            ],
            "text/plain": [
              "             cds rtype  ... PctGE1500  year\n",
              "0              0     X  ...     41.93  1516\n",
              "1  1000000000000     C  ...     54.53  1516\n",
              "2  1100170000000     D  ...      6.32  1516\n",
              "3  1100170112607     S  ...      5.43  1516\n",
              "4  1611190000000     D  ...     63.77  1516\n",
              "\n",
              "[5 rows x 13 columns]"
            ]
          },
          "metadata": {
            "tags": []
          },
          "execution_count": 4
        }
      ]
    },
    {
      "cell_type": "code",
      "metadata": {
        "id": "cjLLHk4eilvh",
        "colab_type": "code",
        "outputId": "61d42d82-46ae-4956-8b09-9fc3ab97ad39",
        "colab": {
          "base_uri": "https://localhost:8080/",
          "height": 255
        }
      },
      "source": [
        "## I do not need the top row of data as it is statewide\n",
        "## first I want to grab this specific row\n",
        "df.iloc[0]"
      ],
      "execution_count": 5,
      "outputs": [
        {
          "output_type": "execute_result",
          "data": {
            "text/plain": [
              "cds                0\n",
              "rtype              X\n",
              "sname            NaN\n",
              "dname            NaN\n",
              "cname            NaN\n",
              "enroll12      492835\n",
              "NumTstTakr    214262\n",
              "AvgScrRead       484\n",
              "AvgScrMath       494\n",
              "AvgScrWrit       477\n",
              "NumGE1500      89840\n",
              "PctGE1500      41.93\n",
              "year            1516\n",
              "Name: 0, dtype: object"
            ]
          },
          "metadata": {
            "tags": []
          },
          "execution_count": 5
        }
      ]
    },
    {
      "cell_type": "code",
      "metadata": {
        "id": "kPE4BDvhmNJL",
        "colab_type": "code",
        "colab": {}
      },
      "source": [
        "## now to drop it and save over the df\n",
        "df = df.drop(0)"
      ],
      "execution_count": 0,
      "outputs": []
    },
    {
      "cell_type": "code",
      "metadata": {
        "id": "EbFRphU3mpfY",
        "colab_type": "code",
        "outputId": "1cbe49a5-0eca-4b23-fa59-afbd997dd0e9",
        "colab": {
          "base_uri": "https://localhost:8080/",
          "height": 411
        }
      },
      "source": [
        "## check to see if it worked\n",
        "df.head()"
      ],
      "execution_count": 7,
      "outputs": [
        {
          "output_type": "execute_result",
          "data": {
            "text/html": [
              "<div>\n",
              "<style scoped>\n",
              "    .dataframe tbody tr th:only-of-type {\n",
              "        vertical-align: middle;\n",
              "    }\n",
              "\n",
              "    .dataframe tbody tr th {\n",
              "        vertical-align: top;\n",
              "    }\n",
              "\n",
              "    .dataframe thead th {\n",
              "        text-align: right;\n",
              "    }\n",
              "</style>\n",
              "<table border=\"1\" class=\"dataframe\">\n",
              "  <thead>\n",
              "    <tr style=\"text-align: right;\">\n",
              "      <th></th>\n",
              "      <th>cds</th>\n",
              "      <th>rtype</th>\n",
              "      <th>sname</th>\n",
              "      <th>dname</th>\n",
              "      <th>cname</th>\n",
              "      <th>enroll12</th>\n",
              "      <th>NumTstTakr</th>\n",
              "      <th>AvgScrRead</th>\n",
              "      <th>AvgScrMath</th>\n",
              "      <th>AvgScrWrit</th>\n",
              "      <th>NumGE1500</th>\n",
              "      <th>PctGE1500</th>\n",
              "      <th>year</th>\n",
              "    </tr>\n",
              "  </thead>\n",
              "  <tbody>\n",
              "    <tr>\n",
              "      <th>1</th>\n",
              "      <td>1000000000000</td>\n",
              "      <td>C</td>\n",
              "      <td>NaN</td>\n",
              "      <td>NaN</td>\n",
              "      <td>Alameda</td>\n",
              "      <td>16662</td>\n",
              "      <td>8611</td>\n",
              "      <td>517</td>\n",
              "      <td>534</td>\n",
              "      <td>515</td>\n",
              "      <td>4696</td>\n",
              "      <td>54.53</td>\n",
              "      <td>1516</td>\n",
              "    </tr>\n",
              "    <tr>\n",
              "      <th>2</th>\n",
              "      <td>1100170000000</td>\n",
              "      <td>D</td>\n",
              "      <td>NaN</td>\n",
              "      <td>Alameda County Office of Education</td>\n",
              "      <td>Alameda</td>\n",
              "      <td>263</td>\n",
              "      <td>95</td>\n",
              "      <td>395</td>\n",
              "      <td>378</td>\n",
              "      <td>388</td>\n",
              "      <td>6</td>\n",
              "      <td>6.32</td>\n",
              "      <td>1516</td>\n",
              "    </tr>\n",
              "    <tr>\n",
              "      <th>3</th>\n",
              "      <td>1100170112607</td>\n",
              "      <td>S</td>\n",
              "      <td>Envision Academy for Arts &amp; Technology</td>\n",
              "      <td>Alameda County Office of Education</td>\n",
              "      <td>Alameda</td>\n",
              "      <td>88</td>\n",
              "      <td>92</td>\n",
              "      <td>391</td>\n",
              "      <td>376</td>\n",
              "      <td>386</td>\n",
              "      <td>5</td>\n",
              "      <td>5.43</td>\n",
              "      <td>1516</td>\n",
              "    </tr>\n",
              "    <tr>\n",
              "      <th>4</th>\n",
              "      <td>1611190000000</td>\n",
              "      <td>D</td>\n",
              "      <td>NaN</td>\n",
              "      <td>Alameda Unified</td>\n",
              "      <td>Alameda</td>\n",
              "      <td>858</td>\n",
              "      <td>472</td>\n",
              "      <td>527</td>\n",
              "      <td>543</td>\n",
              "      <td>514</td>\n",
              "      <td>301</td>\n",
              "      <td>63.77</td>\n",
              "      <td>1516</td>\n",
              "    </tr>\n",
              "    <tr>\n",
              "      <th>5</th>\n",
              "      <td>1611190106401</td>\n",
              "      <td>S</td>\n",
              "      <td>Alameda Science and Technology Institute</td>\n",
              "      <td>Alameda Unified</td>\n",
              "      <td>Alameda</td>\n",
              "      <td>37</td>\n",
              "      <td>35</td>\n",
              "      <td>572</td>\n",
              "      <td>612</td>\n",
              "      <td>530</td>\n",
              "      <td>30</td>\n",
              "      <td>85.71</td>\n",
              "      <td>1516</td>\n",
              "    </tr>\n",
              "  </tbody>\n",
              "</table>\n",
              "</div>"
            ],
            "text/plain": [
              "             cds rtype  ... PctGE1500  year\n",
              "1  1000000000000     C  ...     54.53  1516\n",
              "2  1100170000000     D  ...      6.32  1516\n",
              "3  1100170112607     S  ...      5.43  1516\n",
              "4  1611190000000     D  ...     63.77  1516\n",
              "5  1611190106401     S  ...     85.71  1516\n",
              "\n",
              "[5 rows x 13 columns]"
            ]
          },
          "metadata": {
            "tags": []
          },
          "execution_count": 7
        }
      ]
    },
    {
      "cell_type": "code",
      "metadata": {
        "id": "MJGaxI76mEM4",
        "colab_type": "code",
        "colab": {}
      },
      "source": [
        "## I do not need the cds column or the rtype column\n",
        "df = df.drop(['cds', 'year'], axis=1)"
      ],
      "execution_count": 0,
      "outputs": []
    },
    {
      "cell_type": "code",
      "metadata": {
        "id": "sdIw0Ww0nI8Y",
        "colab_type": "code",
        "outputId": "a4428643-8018-42f1-95a7-678e25bf2f39",
        "colab": {
          "base_uri": "https://localhost:8080/",
          "height": 411
        }
      },
      "source": [
        "## check to see if it worked\n",
        "df.head()"
      ],
      "execution_count": 9,
      "outputs": [
        {
          "output_type": "execute_result",
          "data": {
            "text/html": [
              "<div>\n",
              "<style scoped>\n",
              "    .dataframe tbody tr th:only-of-type {\n",
              "        vertical-align: middle;\n",
              "    }\n",
              "\n",
              "    .dataframe tbody tr th {\n",
              "        vertical-align: top;\n",
              "    }\n",
              "\n",
              "    .dataframe thead th {\n",
              "        text-align: right;\n",
              "    }\n",
              "</style>\n",
              "<table border=\"1\" class=\"dataframe\">\n",
              "  <thead>\n",
              "    <tr style=\"text-align: right;\">\n",
              "      <th></th>\n",
              "      <th>rtype</th>\n",
              "      <th>sname</th>\n",
              "      <th>dname</th>\n",
              "      <th>cname</th>\n",
              "      <th>enroll12</th>\n",
              "      <th>NumTstTakr</th>\n",
              "      <th>AvgScrRead</th>\n",
              "      <th>AvgScrMath</th>\n",
              "      <th>AvgScrWrit</th>\n",
              "      <th>NumGE1500</th>\n",
              "      <th>PctGE1500</th>\n",
              "    </tr>\n",
              "  </thead>\n",
              "  <tbody>\n",
              "    <tr>\n",
              "      <th>1</th>\n",
              "      <td>C</td>\n",
              "      <td>NaN</td>\n",
              "      <td>NaN</td>\n",
              "      <td>Alameda</td>\n",
              "      <td>16662</td>\n",
              "      <td>8611</td>\n",
              "      <td>517</td>\n",
              "      <td>534</td>\n",
              "      <td>515</td>\n",
              "      <td>4696</td>\n",
              "      <td>54.53</td>\n",
              "    </tr>\n",
              "    <tr>\n",
              "      <th>2</th>\n",
              "      <td>D</td>\n",
              "      <td>NaN</td>\n",
              "      <td>Alameda County Office of Education</td>\n",
              "      <td>Alameda</td>\n",
              "      <td>263</td>\n",
              "      <td>95</td>\n",
              "      <td>395</td>\n",
              "      <td>378</td>\n",
              "      <td>388</td>\n",
              "      <td>6</td>\n",
              "      <td>6.32</td>\n",
              "    </tr>\n",
              "    <tr>\n",
              "      <th>3</th>\n",
              "      <td>S</td>\n",
              "      <td>Envision Academy for Arts &amp; Technology</td>\n",
              "      <td>Alameda County Office of Education</td>\n",
              "      <td>Alameda</td>\n",
              "      <td>88</td>\n",
              "      <td>92</td>\n",
              "      <td>391</td>\n",
              "      <td>376</td>\n",
              "      <td>386</td>\n",
              "      <td>5</td>\n",
              "      <td>5.43</td>\n",
              "    </tr>\n",
              "    <tr>\n",
              "      <th>4</th>\n",
              "      <td>D</td>\n",
              "      <td>NaN</td>\n",
              "      <td>Alameda Unified</td>\n",
              "      <td>Alameda</td>\n",
              "      <td>858</td>\n",
              "      <td>472</td>\n",
              "      <td>527</td>\n",
              "      <td>543</td>\n",
              "      <td>514</td>\n",
              "      <td>301</td>\n",
              "      <td>63.77</td>\n",
              "    </tr>\n",
              "    <tr>\n",
              "      <th>5</th>\n",
              "      <td>S</td>\n",
              "      <td>Alameda Science and Technology Institute</td>\n",
              "      <td>Alameda Unified</td>\n",
              "      <td>Alameda</td>\n",
              "      <td>37</td>\n",
              "      <td>35</td>\n",
              "      <td>572</td>\n",
              "      <td>612</td>\n",
              "      <td>530</td>\n",
              "      <td>30</td>\n",
              "      <td>85.71</td>\n",
              "    </tr>\n",
              "  </tbody>\n",
              "</table>\n",
              "</div>"
            ],
            "text/plain": [
              "  rtype                                     sname  ... NumGE1500 PctGE1500\n",
              "1     C                                       NaN  ...      4696     54.53\n",
              "2     D                                       NaN  ...         6      6.32\n",
              "3     S    Envision Academy for Arts & Technology  ...         5      5.43\n",
              "4     D                                       NaN  ...       301     63.77\n",
              "5     S  Alameda Science and Technology Institute  ...        30     85.71\n",
              "\n",
              "[5 rows x 11 columns]"
            ]
          },
          "metadata": {
            "tags": []
          },
          "execution_count": 9
        }
      ]
    },
    {
      "cell_type": "code",
      "metadata": {
        "id": "bnVyfW55lUUY",
        "colab_type": "code",
        "outputId": "620e3014-775d-4208-8a0c-4951b6b5a649",
        "colab": {
          "base_uri": "https://localhost:8080/",
          "height": 85
        }
      },
      "source": [
        "## I want to organize the data by district\n",
        "## I can seperate into schools, districts or counties\n",
        "df['rtype'].value_counts()"
      ],
      "execution_count": 10,
      "outputs": [
        {
          "output_type": "execute_result",
          "data": {
            "text/plain": [
              "S    1754\n",
              "D     522\n",
              "C      57\n",
              "Name: rtype, dtype: int64"
            ]
          },
          "metadata": {
            "tags": []
          },
          "execution_count": 10
        }
      ]
    },
    {
      "cell_type": "code",
      "metadata": {
        "id": "poV59gd5pP1j",
        "colab_type": "code",
        "colab": {}
      },
      "source": [
        "district_df = df[df['rtype'] == 'D']"
      ],
      "execution_count": 0,
      "outputs": []
    },
    {
      "cell_type": "code",
      "metadata": {
        "id": "VdjWCmJ3qWfY",
        "colab_type": "code",
        "outputId": "3fa442dc-4965-4cd2-c3bc-12c516414fc9",
        "colab": {
          "base_uri": "https://localhost:8080/",
          "height": 377
        }
      },
      "source": [
        "district_df.head()"
      ],
      "execution_count": 12,
      "outputs": [
        {
          "output_type": "execute_result",
          "data": {
            "text/html": [
              "<div>\n",
              "<style scoped>\n",
              "    .dataframe tbody tr th:only-of-type {\n",
              "        vertical-align: middle;\n",
              "    }\n",
              "\n",
              "    .dataframe tbody tr th {\n",
              "        vertical-align: top;\n",
              "    }\n",
              "\n",
              "    .dataframe thead th {\n",
              "        text-align: right;\n",
              "    }\n",
              "</style>\n",
              "<table border=\"1\" class=\"dataframe\">\n",
              "  <thead>\n",
              "    <tr style=\"text-align: right;\">\n",
              "      <th></th>\n",
              "      <th>rtype</th>\n",
              "      <th>sname</th>\n",
              "      <th>dname</th>\n",
              "      <th>cname</th>\n",
              "      <th>enroll12</th>\n",
              "      <th>NumTstTakr</th>\n",
              "      <th>AvgScrRead</th>\n",
              "      <th>AvgScrMath</th>\n",
              "      <th>AvgScrWrit</th>\n",
              "      <th>NumGE1500</th>\n",
              "      <th>PctGE1500</th>\n",
              "    </tr>\n",
              "  </thead>\n",
              "  <tbody>\n",
              "    <tr>\n",
              "      <th>2</th>\n",
              "      <td>D</td>\n",
              "      <td>NaN</td>\n",
              "      <td>Alameda County Office of Education</td>\n",
              "      <td>Alameda</td>\n",
              "      <td>263</td>\n",
              "      <td>95</td>\n",
              "      <td>395</td>\n",
              "      <td>378</td>\n",
              "      <td>388</td>\n",
              "      <td>6</td>\n",
              "      <td>6.32</td>\n",
              "    </tr>\n",
              "    <tr>\n",
              "      <th>4</th>\n",
              "      <td>D</td>\n",
              "      <td>NaN</td>\n",
              "      <td>Alameda Unified</td>\n",
              "      <td>Alameda</td>\n",
              "      <td>858</td>\n",
              "      <td>472</td>\n",
              "      <td>527</td>\n",
              "      <td>543</td>\n",
              "      <td>514</td>\n",
              "      <td>301</td>\n",
              "      <td>63.77</td>\n",
              "    </tr>\n",
              "    <tr>\n",
              "      <th>11</th>\n",
              "      <td>D</td>\n",
              "      <td>NaN</td>\n",
              "      <td>Albany City Unified</td>\n",
              "      <td>Alameda</td>\n",
              "      <td>300</td>\n",
              "      <td>179</td>\n",
              "      <td>585</td>\n",
              "      <td>607</td>\n",
              "      <td>575</td>\n",
              "      <td>148</td>\n",
              "      <td>82.68</td>\n",
              "    </tr>\n",
              "    <tr>\n",
              "      <th>13</th>\n",
              "      <td>D</td>\n",
              "      <td>NaN</td>\n",
              "      <td>Berkeley Unified</td>\n",
              "      <td>Alameda</td>\n",
              "      <td>922</td>\n",
              "      <td>542</td>\n",
              "      <td>561</td>\n",
              "      <td>559</td>\n",
              "      <td>553</td>\n",
              "      <td>357</td>\n",
              "      <td>65.87</td>\n",
              "    </tr>\n",
              "    <tr>\n",
              "      <th>16</th>\n",
              "      <td>D</td>\n",
              "      <td>NaN</td>\n",
              "      <td>Castro Valley Unified</td>\n",
              "      <td>Alameda</td>\n",
              "      <td>789</td>\n",
              "      <td>411</td>\n",
              "      <td>535</td>\n",
              "      <td>558</td>\n",
              "      <td>531</td>\n",
              "      <td>264</td>\n",
              "      <td>64.23</td>\n",
              "    </tr>\n",
              "  </tbody>\n",
              "</table>\n",
              "</div>"
            ],
            "text/plain": [
              "   rtype sname  ... NumGE1500 PctGE1500\n",
              "2      D   NaN  ...         6      6.32\n",
              "4      D   NaN  ...       301     63.77\n",
              "11     D   NaN  ...       148     82.68\n",
              "13     D   NaN  ...       357     65.87\n",
              "16     D   NaN  ...       264     64.23\n",
              "\n",
              "[5 rows x 11 columns]"
            ]
          },
          "metadata": {
            "tags": []
          },
          "execution_count": 12
        }
      ]
    },
    {
      "cell_type": "code",
      "metadata": {
        "id": "95MofsNtqYqw",
        "colab_type": "code",
        "outputId": "de055753-71da-4b8d-f7f9-702c0e814a95",
        "colab": {
          "base_uri": "https://localhost:8080/",
          "height": 122
        }
      },
      "source": [
        "## from this I do not need school name because they are all NaNs anyway\n",
        "district_df.drop(['sname'], axis=1 , inplace=True)"
      ],
      "execution_count": 13,
      "outputs": [
        {
          "output_type": "stream",
          "text": [
            "/usr/local/lib/python3.6/dist-packages/pandas/core/frame.py:4117: SettingWithCopyWarning: \n",
            "A value is trying to be set on a copy of a slice from a DataFrame\n",
            "\n",
            "See the caveats in the documentation: http://pandas.pydata.org/pandas-docs/stable/user_guide/indexing.html#returning-a-view-versus-a-copy\n",
            "  errors=errors,\n"
          ],
          "name": "stderr"
        }
      ]
    },
    {
      "cell_type": "code",
      "metadata": {
        "id": "lIiy0w9mrlBu",
        "colab_type": "code",
        "outputId": "ff5c3906-6459-464d-8587-8a0caf6c3e1c",
        "colab": {
          "base_uri": "https://localhost:8080/",
          "height": 377
        }
      },
      "source": [
        "## check to see if that worked\n",
        "district_df.head()"
      ],
      "execution_count": 14,
      "outputs": [
        {
          "output_type": "execute_result",
          "data": {
            "text/html": [
              "<div>\n",
              "<style scoped>\n",
              "    .dataframe tbody tr th:only-of-type {\n",
              "        vertical-align: middle;\n",
              "    }\n",
              "\n",
              "    .dataframe tbody tr th {\n",
              "        vertical-align: top;\n",
              "    }\n",
              "\n",
              "    .dataframe thead th {\n",
              "        text-align: right;\n",
              "    }\n",
              "</style>\n",
              "<table border=\"1\" class=\"dataframe\">\n",
              "  <thead>\n",
              "    <tr style=\"text-align: right;\">\n",
              "      <th></th>\n",
              "      <th>rtype</th>\n",
              "      <th>dname</th>\n",
              "      <th>cname</th>\n",
              "      <th>enroll12</th>\n",
              "      <th>NumTstTakr</th>\n",
              "      <th>AvgScrRead</th>\n",
              "      <th>AvgScrMath</th>\n",
              "      <th>AvgScrWrit</th>\n",
              "      <th>NumGE1500</th>\n",
              "      <th>PctGE1500</th>\n",
              "    </tr>\n",
              "  </thead>\n",
              "  <tbody>\n",
              "    <tr>\n",
              "      <th>2</th>\n",
              "      <td>D</td>\n",
              "      <td>Alameda County Office of Education</td>\n",
              "      <td>Alameda</td>\n",
              "      <td>263</td>\n",
              "      <td>95</td>\n",
              "      <td>395</td>\n",
              "      <td>378</td>\n",
              "      <td>388</td>\n",
              "      <td>6</td>\n",
              "      <td>6.32</td>\n",
              "    </tr>\n",
              "    <tr>\n",
              "      <th>4</th>\n",
              "      <td>D</td>\n",
              "      <td>Alameda Unified</td>\n",
              "      <td>Alameda</td>\n",
              "      <td>858</td>\n",
              "      <td>472</td>\n",
              "      <td>527</td>\n",
              "      <td>543</td>\n",
              "      <td>514</td>\n",
              "      <td>301</td>\n",
              "      <td>63.77</td>\n",
              "    </tr>\n",
              "    <tr>\n",
              "      <th>11</th>\n",
              "      <td>D</td>\n",
              "      <td>Albany City Unified</td>\n",
              "      <td>Alameda</td>\n",
              "      <td>300</td>\n",
              "      <td>179</td>\n",
              "      <td>585</td>\n",
              "      <td>607</td>\n",
              "      <td>575</td>\n",
              "      <td>148</td>\n",
              "      <td>82.68</td>\n",
              "    </tr>\n",
              "    <tr>\n",
              "      <th>13</th>\n",
              "      <td>D</td>\n",
              "      <td>Berkeley Unified</td>\n",
              "      <td>Alameda</td>\n",
              "      <td>922</td>\n",
              "      <td>542</td>\n",
              "      <td>561</td>\n",
              "      <td>559</td>\n",
              "      <td>553</td>\n",
              "      <td>357</td>\n",
              "      <td>65.87</td>\n",
              "    </tr>\n",
              "    <tr>\n",
              "      <th>16</th>\n",
              "      <td>D</td>\n",
              "      <td>Castro Valley Unified</td>\n",
              "      <td>Alameda</td>\n",
              "      <td>789</td>\n",
              "      <td>411</td>\n",
              "      <td>535</td>\n",
              "      <td>558</td>\n",
              "      <td>531</td>\n",
              "      <td>264</td>\n",
              "      <td>64.23</td>\n",
              "    </tr>\n",
              "  </tbody>\n",
              "</table>\n",
              "</div>"
            ],
            "text/plain": [
              "   rtype                               dname  ... NumGE1500  PctGE1500\n",
              "2      D  Alameda County Office of Education  ...         6       6.32\n",
              "4      D                     Alameda Unified  ...       301      63.77\n",
              "11     D                 Albany City Unified  ...       148      82.68\n",
              "13     D                    Berkeley Unified  ...       357      65.87\n",
              "16     D               Castro Valley Unified  ...       264      64.23\n",
              "\n",
              "[5 rows x 10 columns]"
            ]
          },
          "metadata": {
            "tags": []
          },
          "execution_count": 14
        }
      ]
    },
    {
      "cell_type": "code",
      "metadata": {
        "id": "AFP0LBZ2ruO3",
        "colab_type": "code",
        "colab": {}
      },
      "source": [
        "## Now I'll drop the last two columns  as I'm more interested\n",
        "## in the number of students who are enrolled vs who took the test\n",
        "## I also want to reassign my district df into df1\n",
        "df1 = district_df"
      ],
      "execution_count": 0,
      "outputs": []
    },
    {
      "cell_type": "code",
      "metadata": {
        "id": "iVfslPXOtDoM",
        "colab_type": "code",
        "outputId": "b96c7975-3542-46ea-988c-2011f9348af7",
        "colab": {
          "base_uri": "https://localhost:8080/",
          "height": 68
        }
      },
      "source": [
        "## I need the exact column names\n",
        "df1.columns"
      ],
      "execution_count": 16,
      "outputs": [
        {
          "output_type": "execute_result",
          "data": {
            "text/plain": [
              "Index(['rtype', 'dname', 'cname', 'enroll12', 'NumTstTakr', 'AvgScrRead',\n",
              "       'AvgScrMath', 'AvgScrWrit', 'NumGE1500', 'PctGE1500'],\n",
              "      dtype='object')"
            ]
          },
          "metadata": {
            "tags": []
          },
          "execution_count": 16
        }
      ]
    },
    {
      "cell_type": "code",
      "metadata": {
        "id": "hjQgA291s9yR",
        "colab_type": "code",
        "outputId": "3e2704c9-e366-464d-ec1f-f0a7c89f77d5",
        "colab": {
          "base_uri": "https://localhost:8080/",
          "height": 122
        }
      },
      "source": [
        "## lets drop those last two columns\n",
        "df1.drop(['NumGE1500', 'PctGE1500'], axis=1, inplace=True)"
      ],
      "execution_count": 17,
      "outputs": [
        {
          "output_type": "stream",
          "text": [
            "/usr/local/lib/python3.6/dist-packages/pandas/core/frame.py:4117: SettingWithCopyWarning: \n",
            "A value is trying to be set on a copy of a slice from a DataFrame\n",
            "\n",
            "See the caveats in the documentation: http://pandas.pydata.org/pandas-docs/stable/user_guide/indexing.html#returning-a-view-versus-a-copy\n",
            "  errors=errors,\n"
          ],
          "name": "stderr"
        }
      ]
    },
    {
      "cell_type": "code",
      "metadata": {
        "id": "cVuVmIbAtO0x",
        "colab_type": "code",
        "outputId": "a0dce96b-b44d-4535-93e9-df7954f23fda",
        "colab": {
          "base_uri": "https://localhost:8080/",
          "height": 221
        }
      },
      "source": [
        "df1.head()"
      ],
      "execution_count": 18,
      "outputs": [
        {
          "output_type": "execute_result",
          "data": {
            "text/html": [
              "<div>\n",
              "<style scoped>\n",
              "    .dataframe tbody tr th:only-of-type {\n",
              "        vertical-align: middle;\n",
              "    }\n",
              "\n",
              "    .dataframe tbody tr th {\n",
              "        vertical-align: top;\n",
              "    }\n",
              "\n",
              "    .dataframe thead th {\n",
              "        text-align: right;\n",
              "    }\n",
              "</style>\n",
              "<table border=\"1\" class=\"dataframe\">\n",
              "  <thead>\n",
              "    <tr style=\"text-align: right;\">\n",
              "      <th></th>\n",
              "      <th>rtype</th>\n",
              "      <th>dname</th>\n",
              "      <th>cname</th>\n",
              "      <th>enroll12</th>\n",
              "      <th>NumTstTakr</th>\n",
              "      <th>AvgScrRead</th>\n",
              "      <th>AvgScrMath</th>\n",
              "      <th>AvgScrWrit</th>\n",
              "    </tr>\n",
              "  </thead>\n",
              "  <tbody>\n",
              "    <tr>\n",
              "      <th>2</th>\n",
              "      <td>D</td>\n",
              "      <td>Alameda County Office of Education</td>\n",
              "      <td>Alameda</td>\n",
              "      <td>263</td>\n",
              "      <td>95</td>\n",
              "      <td>395</td>\n",
              "      <td>378</td>\n",
              "      <td>388</td>\n",
              "    </tr>\n",
              "    <tr>\n",
              "      <th>4</th>\n",
              "      <td>D</td>\n",
              "      <td>Alameda Unified</td>\n",
              "      <td>Alameda</td>\n",
              "      <td>858</td>\n",
              "      <td>472</td>\n",
              "      <td>527</td>\n",
              "      <td>543</td>\n",
              "      <td>514</td>\n",
              "    </tr>\n",
              "    <tr>\n",
              "      <th>11</th>\n",
              "      <td>D</td>\n",
              "      <td>Albany City Unified</td>\n",
              "      <td>Alameda</td>\n",
              "      <td>300</td>\n",
              "      <td>179</td>\n",
              "      <td>585</td>\n",
              "      <td>607</td>\n",
              "      <td>575</td>\n",
              "    </tr>\n",
              "    <tr>\n",
              "      <th>13</th>\n",
              "      <td>D</td>\n",
              "      <td>Berkeley Unified</td>\n",
              "      <td>Alameda</td>\n",
              "      <td>922</td>\n",
              "      <td>542</td>\n",
              "      <td>561</td>\n",
              "      <td>559</td>\n",
              "      <td>553</td>\n",
              "    </tr>\n",
              "    <tr>\n",
              "      <th>16</th>\n",
              "      <td>D</td>\n",
              "      <td>Castro Valley Unified</td>\n",
              "      <td>Alameda</td>\n",
              "      <td>789</td>\n",
              "      <td>411</td>\n",
              "      <td>535</td>\n",
              "      <td>558</td>\n",
              "      <td>531</td>\n",
              "    </tr>\n",
              "  </tbody>\n",
              "</table>\n",
              "</div>"
            ],
            "text/plain": [
              "   rtype                               dname  ... AvgScrMath  AvgScrWrit\n",
              "2      D  Alameda County Office of Education  ...        378         388\n",
              "4      D                     Alameda Unified  ...        543         514\n",
              "11     D                 Albany City Unified  ...        607         575\n",
              "13     D                    Berkeley Unified  ...        559         553\n",
              "16     D               Castro Valley Unified  ...        558         531\n",
              "\n",
              "[5 rows x 8 columns]"
            ]
          },
          "metadata": {
            "tags": []
          },
          "execution_count": 18
        }
      ]
    },
    {
      "cell_type": "code",
      "metadata": {
        "id": "vxa8nwIGtScR",
        "colab_type": "code",
        "outputId": "44ff00a8-3d8e-4b51-a910-b17d8997d214",
        "colab": {
          "base_uri": "https://localhost:8080/",
          "height": 122
        }
      },
      "source": [
        "## I also do not need the rtype column because I know it is by district\n",
        "df1.drop(['rtype'], axis=1, inplace=True)"
      ],
      "execution_count": 19,
      "outputs": [
        {
          "output_type": "stream",
          "text": [
            "/usr/local/lib/python3.6/dist-packages/pandas/core/frame.py:4117: SettingWithCopyWarning: \n",
            "A value is trying to be set on a copy of a slice from a DataFrame\n",
            "\n",
            "See the caveats in the documentation: http://pandas.pydata.org/pandas-docs/stable/user_guide/indexing.html#returning-a-view-versus-a-copy\n",
            "  errors=errors,\n"
          ],
          "name": "stderr"
        }
      ]
    },
    {
      "cell_type": "code",
      "metadata": {
        "id": "VDfZ0QUdtd3w",
        "colab_type": "code",
        "outputId": "49c12335-1530-4623-dcee-8b810fe10f51",
        "colab": {
          "base_uri": "https://localhost:8080/",
          "height": 221
        }
      },
      "source": [
        "df1.head()"
      ],
      "execution_count": 20,
      "outputs": [
        {
          "output_type": "execute_result",
          "data": {
            "text/html": [
              "<div>\n",
              "<style scoped>\n",
              "    .dataframe tbody tr th:only-of-type {\n",
              "        vertical-align: middle;\n",
              "    }\n",
              "\n",
              "    .dataframe tbody tr th {\n",
              "        vertical-align: top;\n",
              "    }\n",
              "\n",
              "    .dataframe thead th {\n",
              "        text-align: right;\n",
              "    }\n",
              "</style>\n",
              "<table border=\"1\" class=\"dataframe\">\n",
              "  <thead>\n",
              "    <tr style=\"text-align: right;\">\n",
              "      <th></th>\n",
              "      <th>dname</th>\n",
              "      <th>cname</th>\n",
              "      <th>enroll12</th>\n",
              "      <th>NumTstTakr</th>\n",
              "      <th>AvgScrRead</th>\n",
              "      <th>AvgScrMath</th>\n",
              "      <th>AvgScrWrit</th>\n",
              "    </tr>\n",
              "  </thead>\n",
              "  <tbody>\n",
              "    <tr>\n",
              "      <th>2</th>\n",
              "      <td>Alameda County Office of Education</td>\n",
              "      <td>Alameda</td>\n",
              "      <td>263</td>\n",
              "      <td>95</td>\n",
              "      <td>395</td>\n",
              "      <td>378</td>\n",
              "      <td>388</td>\n",
              "    </tr>\n",
              "    <tr>\n",
              "      <th>4</th>\n",
              "      <td>Alameda Unified</td>\n",
              "      <td>Alameda</td>\n",
              "      <td>858</td>\n",
              "      <td>472</td>\n",
              "      <td>527</td>\n",
              "      <td>543</td>\n",
              "      <td>514</td>\n",
              "    </tr>\n",
              "    <tr>\n",
              "      <th>11</th>\n",
              "      <td>Albany City Unified</td>\n",
              "      <td>Alameda</td>\n",
              "      <td>300</td>\n",
              "      <td>179</td>\n",
              "      <td>585</td>\n",
              "      <td>607</td>\n",
              "      <td>575</td>\n",
              "    </tr>\n",
              "    <tr>\n",
              "      <th>13</th>\n",
              "      <td>Berkeley Unified</td>\n",
              "      <td>Alameda</td>\n",
              "      <td>922</td>\n",
              "      <td>542</td>\n",
              "      <td>561</td>\n",
              "      <td>559</td>\n",
              "      <td>553</td>\n",
              "    </tr>\n",
              "    <tr>\n",
              "      <th>16</th>\n",
              "      <td>Castro Valley Unified</td>\n",
              "      <td>Alameda</td>\n",
              "      <td>789</td>\n",
              "      <td>411</td>\n",
              "      <td>535</td>\n",
              "      <td>558</td>\n",
              "      <td>531</td>\n",
              "    </tr>\n",
              "  </tbody>\n",
              "</table>\n",
              "</div>"
            ],
            "text/plain": [
              "                                 dname    cname  ...  AvgScrMath  AvgScrWrit\n",
              "2   Alameda County Office of Education  Alameda  ...         378         388\n",
              "4                      Alameda Unified  Alameda  ...         543         514\n",
              "11                 Albany City Unified  Alameda  ...         607         575\n",
              "13                    Berkeley Unified  Alameda  ...         559         553\n",
              "16               Castro Valley Unified  Alameda  ...         558         531\n",
              "\n",
              "[5 rows x 7 columns]"
            ]
          },
          "metadata": {
            "tags": []
          },
          "execution_count": 20
        }
      ]
    },
    {
      "cell_type": "code",
      "metadata": {
        "id": "orF29EHwtfG8",
        "colab_type": "code",
        "outputId": "1161b7eb-a595-4b38-f94e-357d918ed914",
        "colab": {
          "base_uri": "https://localhost:8080/",
          "height": 34
        }
      },
      "source": [
        "## the first thing I want to explore is enrollment and num test\n",
        "## takers so I'll do some checks for NaN values\n",
        "df1['enroll12'].isnull().sum()"
      ],
      "execution_count": 21,
      "outputs": [
        {
          "output_type": "execute_result",
          "data": {
            "text/plain": [
              "0"
            ]
          },
          "metadata": {
            "tags": []
          },
          "execution_count": 21
        }
      ]
    },
    {
      "cell_type": "code",
      "metadata": {
        "id": "DxvoQyrMt1tk",
        "colab_type": "code",
        "outputId": "7a528ce4-1801-412c-b42d-04f5ff257cd8",
        "colab": {
          "base_uri": "https://localhost:8080/",
          "height": 34
        }
      },
      "source": [
        "## do the same thing for test takers\n",
        "df1['NumTstTakr'].isnull().sum()"
      ],
      "execution_count": 22,
      "outputs": [
        {
          "output_type": "execute_result",
          "data": {
            "text/plain": [
              "0"
            ]
          },
          "metadata": {
            "tags": []
          },
          "execution_count": 22
        }
      ]
    },
    {
      "cell_type": "code",
      "metadata": {
        "id": "BM2tPHwPuLQu",
        "colab_type": "code",
        "colab": {}
      },
      "source": [
        "## I like how my dataframe looks now, but I want to reset the index\n",
        "df1.reset_index(inplace=True)"
      ],
      "execution_count": 0,
      "outputs": []
    },
    {
      "cell_type": "code",
      "metadata": {
        "id": "cIRfqDxwuR8m",
        "colab_type": "code",
        "outputId": "0cc14ac1-b5bb-40e2-e838-e9e8d385be5f",
        "colab": {
          "base_uri": "https://localhost:8080/",
          "height": 221
        }
      },
      "source": [
        "df1.head()"
      ],
      "execution_count": 24,
      "outputs": [
        {
          "output_type": "execute_result",
          "data": {
            "text/html": [
              "<div>\n",
              "<style scoped>\n",
              "    .dataframe tbody tr th:only-of-type {\n",
              "        vertical-align: middle;\n",
              "    }\n",
              "\n",
              "    .dataframe tbody tr th {\n",
              "        vertical-align: top;\n",
              "    }\n",
              "\n",
              "    .dataframe thead th {\n",
              "        text-align: right;\n",
              "    }\n",
              "</style>\n",
              "<table border=\"1\" class=\"dataframe\">\n",
              "  <thead>\n",
              "    <tr style=\"text-align: right;\">\n",
              "      <th></th>\n",
              "      <th>index</th>\n",
              "      <th>dname</th>\n",
              "      <th>cname</th>\n",
              "      <th>enroll12</th>\n",
              "      <th>NumTstTakr</th>\n",
              "      <th>AvgScrRead</th>\n",
              "      <th>AvgScrMath</th>\n",
              "      <th>AvgScrWrit</th>\n",
              "    </tr>\n",
              "  </thead>\n",
              "  <tbody>\n",
              "    <tr>\n",
              "      <th>0</th>\n",
              "      <td>2</td>\n",
              "      <td>Alameda County Office of Education</td>\n",
              "      <td>Alameda</td>\n",
              "      <td>263</td>\n",
              "      <td>95</td>\n",
              "      <td>395</td>\n",
              "      <td>378</td>\n",
              "      <td>388</td>\n",
              "    </tr>\n",
              "    <tr>\n",
              "      <th>1</th>\n",
              "      <td>4</td>\n",
              "      <td>Alameda Unified</td>\n",
              "      <td>Alameda</td>\n",
              "      <td>858</td>\n",
              "      <td>472</td>\n",
              "      <td>527</td>\n",
              "      <td>543</td>\n",
              "      <td>514</td>\n",
              "    </tr>\n",
              "    <tr>\n",
              "      <th>2</th>\n",
              "      <td>11</td>\n",
              "      <td>Albany City Unified</td>\n",
              "      <td>Alameda</td>\n",
              "      <td>300</td>\n",
              "      <td>179</td>\n",
              "      <td>585</td>\n",
              "      <td>607</td>\n",
              "      <td>575</td>\n",
              "    </tr>\n",
              "    <tr>\n",
              "      <th>3</th>\n",
              "      <td>13</td>\n",
              "      <td>Berkeley Unified</td>\n",
              "      <td>Alameda</td>\n",
              "      <td>922</td>\n",
              "      <td>542</td>\n",
              "      <td>561</td>\n",
              "      <td>559</td>\n",
              "      <td>553</td>\n",
              "    </tr>\n",
              "    <tr>\n",
              "      <th>4</th>\n",
              "      <td>16</td>\n",
              "      <td>Castro Valley Unified</td>\n",
              "      <td>Alameda</td>\n",
              "      <td>789</td>\n",
              "      <td>411</td>\n",
              "      <td>535</td>\n",
              "      <td>558</td>\n",
              "      <td>531</td>\n",
              "    </tr>\n",
              "  </tbody>\n",
              "</table>\n",
              "</div>"
            ],
            "text/plain": [
              "   index                               dname  ... AvgScrMath  AvgScrWrit\n",
              "0      2  Alameda County Office of Education  ...        378         388\n",
              "1      4                     Alameda Unified  ...        543         514\n",
              "2     11                 Albany City Unified  ...        607         575\n",
              "3     13                    Berkeley Unified  ...        559         553\n",
              "4     16               Castro Valley Unified  ...        558         531\n",
              "\n",
              "[5 rows x 8 columns]"
            ]
          },
          "metadata": {
            "tags": []
          },
          "execution_count": 24
        }
      ]
    },
    {
      "cell_type": "code",
      "metadata": {
        "id": "7IZXJJ7mu-eZ",
        "colab_type": "code",
        "outputId": "e7039f25-431c-4453-9288-65b40772d445",
        "colab": {
          "base_uri": "https://localhost:8080/",
          "height": 122
        }
      },
      "source": [
        "df1.drop(['index'], axis=1, inplace=True)"
      ],
      "execution_count": 25,
      "outputs": [
        {
          "output_type": "stream",
          "text": [
            "/usr/local/lib/python3.6/dist-packages/pandas/core/frame.py:4117: SettingWithCopyWarning: \n",
            "A value is trying to be set on a copy of a slice from a DataFrame\n",
            "\n",
            "See the caveats in the documentation: http://pandas.pydata.org/pandas-docs/stable/user_guide/indexing.html#returning-a-view-versus-a-copy\n",
            "  errors=errors,\n"
          ],
          "name": "stderr"
        }
      ]
    },
    {
      "cell_type": "code",
      "metadata": {
        "id": "qw0w7hvTvIH9",
        "colab_type": "code",
        "outputId": "5682f80c-7d45-4073-a560-0065e02d3441",
        "colab": {
          "base_uri": "https://localhost:8080/",
          "height": 221
        }
      },
      "source": [
        "df1.head()"
      ],
      "execution_count": 26,
      "outputs": [
        {
          "output_type": "execute_result",
          "data": {
            "text/html": [
              "<div>\n",
              "<style scoped>\n",
              "    .dataframe tbody tr th:only-of-type {\n",
              "        vertical-align: middle;\n",
              "    }\n",
              "\n",
              "    .dataframe tbody tr th {\n",
              "        vertical-align: top;\n",
              "    }\n",
              "\n",
              "    .dataframe thead th {\n",
              "        text-align: right;\n",
              "    }\n",
              "</style>\n",
              "<table border=\"1\" class=\"dataframe\">\n",
              "  <thead>\n",
              "    <tr style=\"text-align: right;\">\n",
              "      <th></th>\n",
              "      <th>dname</th>\n",
              "      <th>cname</th>\n",
              "      <th>enroll12</th>\n",
              "      <th>NumTstTakr</th>\n",
              "      <th>AvgScrRead</th>\n",
              "      <th>AvgScrMath</th>\n",
              "      <th>AvgScrWrit</th>\n",
              "    </tr>\n",
              "  </thead>\n",
              "  <tbody>\n",
              "    <tr>\n",
              "      <th>0</th>\n",
              "      <td>Alameda County Office of Education</td>\n",
              "      <td>Alameda</td>\n",
              "      <td>263</td>\n",
              "      <td>95</td>\n",
              "      <td>395</td>\n",
              "      <td>378</td>\n",
              "      <td>388</td>\n",
              "    </tr>\n",
              "    <tr>\n",
              "      <th>1</th>\n",
              "      <td>Alameda Unified</td>\n",
              "      <td>Alameda</td>\n",
              "      <td>858</td>\n",
              "      <td>472</td>\n",
              "      <td>527</td>\n",
              "      <td>543</td>\n",
              "      <td>514</td>\n",
              "    </tr>\n",
              "    <tr>\n",
              "      <th>2</th>\n",
              "      <td>Albany City Unified</td>\n",
              "      <td>Alameda</td>\n",
              "      <td>300</td>\n",
              "      <td>179</td>\n",
              "      <td>585</td>\n",
              "      <td>607</td>\n",
              "      <td>575</td>\n",
              "    </tr>\n",
              "    <tr>\n",
              "      <th>3</th>\n",
              "      <td>Berkeley Unified</td>\n",
              "      <td>Alameda</td>\n",
              "      <td>922</td>\n",
              "      <td>542</td>\n",
              "      <td>561</td>\n",
              "      <td>559</td>\n",
              "      <td>553</td>\n",
              "    </tr>\n",
              "    <tr>\n",
              "      <th>4</th>\n",
              "      <td>Castro Valley Unified</td>\n",
              "      <td>Alameda</td>\n",
              "      <td>789</td>\n",
              "      <td>411</td>\n",
              "      <td>535</td>\n",
              "      <td>558</td>\n",
              "      <td>531</td>\n",
              "    </tr>\n",
              "  </tbody>\n",
              "</table>\n",
              "</div>"
            ],
            "text/plain": [
              "                                dname    cname  ...  AvgScrMath  AvgScrWrit\n",
              "0  Alameda County Office of Education  Alameda  ...         378         388\n",
              "1                     Alameda Unified  Alameda  ...         543         514\n",
              "2                 Albany City Unified  Alameda  ...         607         575\n",
              "3                    Berkeley Unified  Alameda  ...         559         553\n",
              "4               Castro Valley Unified  Alameda  ...         558         531\n",
              "\n",
              "[5 rows x 7 columns]"
            ]
          },
          "metadata": {
            "tags": []
          },
          "execution_count": 26
        }
      ]
    },
    {
      "cell_type": "markdown",
      "metadata": {
        "id": "pQjYU5YzvQSs",
        "colab_type": "text"
      },
      "source": [
        "# Feature Engineering "
      ]
    },
    {
      "cell_type": "code",
      "metadata": {
        "id": "9chpjIY_vJmo",
        "colab_type": "code",
        "outputId": "9fe131df-6040-483f-f02e-e0cee0ce9138",
        "colab": {
          "base_uri": "https://localhost:8080/",
          "height": 139
        }
      },
      "source": [
        "## I want to add a column that has the percentage of students \n",
        "## who took the test\n",
        "df1['percentage']= round(df1['NumTstTakr'] / df1['enroll12'], 2)"
      ],
      "execution_count": 27,
      "outputs": [
        {
          "output_type": "stream",
          "text": [
            "/usr/local/lib/python3.6/dist-packages/ipykernel_launcher.py:1: SettingWithCopyWarning: \n",
            "A value is trying to be set on a copy of a slice from a DataFrame.\n",
            "Try using .loc[row_indexer,col_indexer] = value instead\n",
            "\n",
            "See the caveats in the documentation: http://pandas.pydata.org/pandas-docs/stable/user_guide/indexing.html#returning-a-view-versus-a-copy\n",
            "  \"\"\"Entry point for launching an IPython kernel.\n"
          ],
          "name": "stderr"
        }
      ]
    },
    {
      "cell_type": "code",
      "metadata": {
        "id": "4Ju54ldVv8KT",
        "colab_type": "code",
        "outputId": "75e43a39-e675-4476-f897-6531291bb29b",
        "colab": {
          "base_uri": "https://localhost:8080/",
          "height": 238
        }
      },
      "source": [
        "df1.head()"
      ],
      "execution_count": 28,
      "outputs": [
        {
          "output_type": "execute_result",
          "data": {
            "text/html": [
              "<div>\n",
              "<style scoped>\n",
              "    .dataframe tbody tr th:only-of-type {\n",
              "        vertical-align: middle;\n",
              "    }\n",
              "\n",
              "    .dataframe tbody tr th {\n",
              "        vertical-align: top;\n",
              "    }\n",
              "\n",
              "    .dataframe thead th {\n",
              "        text-align: right;\n",
              "    }\n",
              "</style>\n",
              "<table border=\"1\" class=\"dataframe\">\n",
              "  <thead>\n",
              "    <tr style=\"text-align: right;\">\n",
              "      <th></th>\n",
              "      <th>dname</th>\n",
              "      <th>cname</th>\n",
              "      <th>enroll12</th>\n",
              "      <th>NumTstTakr</th>\n",
              "      <th>AvgScrRead</th>\n",
              "      <th>AvgScrMath</th>\n",
              "      <th>AvgScrWrit</th>\n",
              "      <th>percentage</th>\n",
              "    </tr>\n",
              "  </thead>\n",
              "  <tbody>\n",
              "    <tr>\n",
              "      <th>0</th>\n",
              "      <td>Alameda County Office of Education</td>\n",
              "      <td>Alameda</td>\n",
              "      <td>263</td>\n",
              "      <td>95</td>\n",
              "      <td>395</td>\n",
              "      <td>378</td>\n",
              "      <td>388</td>\n",
              "      <td>0.36</td>\n",
              "    </tr>\n",
              "    <tr>\n",
              "      <th>1</th>\n",
              "      <td>Alameda Unified</td>\n",
              "      <td>Alameda</td>\n",
              "      <td>858</td>\n",
              "      <td>472</td>\n",
              "      <td>527</td>\n",
              "      <td>543</td>\n",
              "      <td>514</td>\n",
              "      <td>0.55</td>\n",
              "    </tr>\n",
              "    <tr>\n",
              "      <th>2</th>\n",
              "      <td>Albany City Unified</td>\n",
              "      <td>Alameda</td>\n",
              "      <td>300</td>\n",
              "      <td>179</td>\n",
              "      <td>585</td>\n",
              "      <td>607</td>\n",
              "      <td>575</td>\n",
              "      <td>0.60</td>\n",
              "    </tr>\n",
              "    <tr>\n",
              "      <th>3</th>\n",
              "      <td>Berkeley Unified</td>\n",
              "      <td>Alameda</td>\n",
              "      <td>922</td>\n",
              "      <td>542</td>\n",
              "      <td>561</td>\n",
              "      <td>559</td>\n",
              "      <td>553</td>\n",
              "      <td>0.59</td>\n",
              "    </tr>\n",
              "    <tr>\n",
              "      <th>4</th>\n",
              "      <td>Castro Valley Unified</td>\n",
              "      <td>Alameda</td>\n",
              "      <td>789</td>\n",
              "      <td>411</td>\n",
              "      <td>535</td>\n",
              "      <td>558</td>\n",
              "      <td>531</td>\n",
              "      <td>0.52</td>\n",
              "    </tr>\n",
              "  </tbody>\n",
              "</table>\n",
              "</div>"
            ],
            "text/plain": [
              "                                dname    cname  ...  AvgScrWrit  percentage\n",
              "0  Alameda County Office of Education  Alameda  ...         388        0.36\n",
              "1                     Alameda Unified  Alameda  ...         514        0.55\n",
              "2                 Albany City Unified  Alameda  ...         575        0.60\n",
              "3                    Berkeley Unified  Alameda  ...         553        0.59\n",
              "4               Castro Valley Unified  Alameda  ...         531        0.52\n",
              "\n",
              "[5 rows x 8 columns]"
            ]
          },
          "metadata": {
            "tags": []
          },
          "execution_count": 28
        }
      ]
    },
    {
      "cell_type": "code",
      "metadata": {
        "id": "Mak7KrOuv_cC",
        "colab_type": "code",
        "colab": {}
      },
      "source": [
        "## I want to reorder the columns\n",
        "df1 = df1[['dname', 'cname', 'enroll12', 'NumTstTakr', 'percentage', 'AvgScrRead', 'AvgScrMath',\n",
        "       'AvgScrWrit']]"
      ],
      "execution_count": 0,
      "outputs": []
    },
    {
      "cell_type": "code",
      "metadata": {
        "id": "ojSZtH7-wQTd",
        "colab_type": "code",
        "outputId": "fdc1c6fd-631a-444f-f7ef-a72d5cf0d904",
        "colab": {
          "base_uri": "https://localhost:8080/",
          "height": 238
        }
      },
      "source": [
        "df1.head()"
      ],
      "execution_count": 30,
      "outputs": [
        {
          "output_type": "execute_result",
          "data": {
            "text/html": [
              "<div>\n",
              "<style scoped>\n",
              "    .dataframe tbody tr th:only-of-type {\n",
              "        vertical-align: middle;\n",
              "    }\n",
              "\n",
              "    .dataframe tbody tr th {\n",
              "        vertical-align: top;\n",
              "    }\n",
              "\n",
              "    .dataframe thead th {\n",
              "        text-align: right;\n",
              "    }\n",
              "</style>\n",
              "<table border=\"1\" class=\"dataframe\">\n",
              "  <thead>\n",
              "    <tr style=\"text-align: right;\">\n",
              "      <th></th>\n",
              "      <th>dname</th>\n",
              "      <th>cname</th>\n",
              "      <th>enroll12</th>\n",
              "      <th>NumTstTakr</th>\n",
              "      <th>percentage</th>\n",
              "      <th>AvgScrRead</th>\n",
              "      <th>AvgScrMath</th>\n",
              "      <th>AvgScrWrit</th>\n",
              "    </tr>\n",
              "  </thead>\n",
              "  <tbody>\n",
              "    <tr>\n",
              "      <th>0</th>\n",
              "      <td>Alameda County Office of Education</td>\n",
              "      <td>Alameda</td>\n",
              "      <td>263</td>\n",
              "      <td>95</td>\n",
              "      <td>0.36</td>\n",
              "      <td>395</td>\n",
              "      <td>378</td>\n",
              "      <td>388</td>\n",
              "    </tr>\n",
              "    <tr>\n",
              "      <th>1</th>\n",
              "      <td>Alameda Unified</td>\n",
              "      <td>Alameda</td>\n",
              "      <td>858</td>\n",
              "      <td>472</td>\n",
              "      <td>0.55</td>\n",
              "      <td>527</td>\n",
              "      <td>543</td>\n",
              "      <td>514</td>\n",
              "    </tr>\n",
              "    <tr>\n",
              "      <th>2</th>\n",
              "      <td>Albany City Unified</td>\n",
              "      <td>Alameda</td>\n",
              "      <td>300</td>\n",
              "      <td>179</td>\n",
              "      <td>0.60</td>\n",
              "      <td>585</td>\n",
              "      <td>607</td>\n",
              "      <td>575</td>\n",
              "    </tr>\n",
              "    <tr>\n",
              "      <th>3</th>\n",
              "      <td>Berkeley Unified</td>\n",
              "      <td>Alameda</td>\n",
              "      <td>922</td>\n",
              "      <td>542</td>\n",
              "      <td>0.59</td>\n",
              "      <td>561</td>\n",
              "      <td>559</td>\n",
              "      <td>553</td>\n",
              "    </tr>\n",
              "    <tr>\n",
              "      <th>4</th>\n",
              "      <td>Castro Valley Unified</td>\n",
              "      <td>Alameda</td>\n",
              "      <td>789</td>\n",
              "      <td>411</td>\n",
              "      <td>0.52</td>\n",
              "      <td>535</td>\n",
              "      <td>558</td>\n",
              "      <td>531</td>\n",
              "    </tr>\n",
              "  </tbody>\n",
              "</table>\n",
              "</div>"
            ],
            "text/plain": [
              "                                dname    cname  ...  AvgScrMath  AvgScrWrit\n",
              "0  Alameda County Office of Education  Alameda  ...         378         388\n",
              "1                     Alameda Unified  Alameda  ...         543         514\n",
              "2                 Albany City Unified  Alameda  ...         607         575\n",
              "3                    Berkeley Unified  Alameda  ...         559         553\n",
              "4               Castro Valley Unified  Alameda  ...         558         531\n",
              "\n",
              "[5 rows x 8 columns]"
            ]
          },
          "metadata": {
            "tags": []
          },
          "execution_count": 30
        }
      ]
    },
    {
      "cell_type": "code",
      "metadata": {
        "id": "YTPpp0zzzUAc",
        "colab_type": "code",
        "outputId": "bcaec3b9-795c-4973-eda9-6f8f966adf4f",
        "colab": {
          "base_uri": "https://localhost:8080/",
          "height": 34
        }
      },
      "source": [
        "df1.shape"
      ],
      "execution_count": 31,
      "outputs": [
        {
          "output_type": "execute_result",
          "data": {
            "text/plain": [
              "(522, 8)"
            ]
          },
          "metadata": {
            "tags": []
          },
          "execution_count": 31
        }
      ]
    },
    {
      "cell_type": "code",
      "metadata": {
        "id": "JgsAVnnCzNin",
        "colab_type": "code",
        "outputId": "616c53bd-5b01-4686-ce41-41ba965ab328",
        "colab": {
          "base_uri": "https://localhost:8080/",
          "height": 68
        }
      },
      "source": [
        "## I have 35 instances of NaN values out of 522 datapoints\n",
        "print(df1['AvgScrMath'].isnull().sum())\n",
        "print(df1['AvgScrRead'].isnull().sum())\n",
        "print(df1['AvgScrWrit'].isnull().sum())"
      ],
      "execution_count": 32,
      "outputs": [
        {
          "output_type": "stream",
          "text": [
            "35\n",
            "35\n",
            "35\n"
          ],
          "name": "stdout"
        }
      ]
    },
    {
      "cell_type": "code",
      "metadata": {
        "id": "w0OPG7aizXOI",
        "colab_type": "code",
        "colab": {}
      },
      "source": [
        "## I'm going to drop the NaNs\n",
        "df1 = pd.DataFrame.dropna(df1)"
      ],
      "execution_count": 0,
      "outputs": []
    },
    {
      "cell_type": "code",
      "metadata": {
        "id": "MqHOcGkpyQpR",
        "colab_type": "code",
        "outputId": "1d0bd660-fd18-472e-cead-63fe0eb48766",
        "colab": {
          "base_uri": "https://localhost:8080/",
          "height": 221
        }
      },
      "source": [
        "df1['AvgScrMath'].value_counts()\n",
        "df1['AvgScrRead'].value_counts()\n",
        "## I am going to need to get rid of these stars"
      ],
      "execution_count": 34,
      "outputs": [
        {
          "output_type": "execute_result",
          "data": {
            "text/plain": [
              "*      65\n",
              "532     9\n",
              "495     8\n",
              "485     7\n",
              "507     6\n",
              "       ..\n",
              "621     1\n",
              "588     1\n",
              "450     1\n",
              "396     1\n",
              "325     1\n",
              "Name: AvgScrRead, Length: 175, dtype: int64"
            ]
          },
          "metadata": {
            "tags": []
          },
          "execution_count": 34
        }
      ]
    },
    {
      "cell_type": "code",
      "metadata": {
        "id": "QWeUiR1Q3mp3",
        "colab_type": "code",
        "colab": {}
      },
      "source": [
        "df1 =  df1[df1['AvgScrMath'] != '*']"
      ],
      "execution_count": 0,
      "outputs": []
    },
    {
      "cell_type": "code",
      "metadata": {
        "id": "Wkz_2D4O33Da",
        "colab_type": "code",
        "outputId": "ae2da14b-6af1-424e-f741-1b0b613309a7",
        "colab": {
          "base_uri": "https://localhost:8080/",
          "height": 34
        }
      },
      "source": [
        "## I had to drop a lot of rows but the data is now clean\n",
        "df1.shape"
      ],
      "execution_count": 36,
      "outputs": [
        {
          "output_type": "execute_result",
          "data": {
            "text/plain": [
              "(422, 8)"
            ]
          },
          "metadata": {
            "tags": []
          },
          "execution_count": 36
        }
      ]
    },
    {
      "cell_type": "code",
      "metadata": {
        "id": "mJ40U5mEEnyD",
        "colab_type": "code",
        "outputId": "b04e0663-2936-4636-d9f2-b08519d1c526",
        "colab": {
          "base_uri": "https://localhost:8080/",
          "height": 238
        }
      },
      "source": [
        "df1.head()"
      ],
      "execution_count": 37,
      "outputs": [
        {
          "output_type": "execute_result",
          "data": {
            "text/html": [
              "<div>\n",
              "<style scoped>\n",
              "    .dataframe tbody tr th:only-of-type {\n",
              "        vertical-align: middle;\n",
              "    }\n",
              "\n",
              "    .dataframe tbody tr th {\n",
              "        vertical-align: top;\n",
              "    }\n",
              "\n",
              "    .dataframe thead th {\n",
              "        text-align: right;\n",
              "    }\n",
              "</style>\n",
              "<table border=\"1\" class=\"dataframe\">\n",
              "  <thead>\n",
              "    <tr style=\"text-align: right;\">\n",
              "      <th></th>\n",
              "      <th>dname</th>\n",
              "      <th>cname</th>\n",
              "      <th>enroll12</th>\n",
              "      <th>NumTstTakr</th>\n",
              "      <th>percentage</th>\n",
              "      <th>AvgScrRead</th>\n",
              "      <th>AvgScrMath</th>\n",
              "      <th>AvgScrWrit</th>\n",
              "    </tr>\n",
              "  </thead>\n",
              "  <tbody>\n",
              "    <tr>\n",
              "      <th>0</th>\n",
              "      <td>Alameda County Office of Education</td>\n",
              "      <td>Alameda</td>\n",
              "      <td>263</td>\n",
              "      <td>95</td>\n",
              "      <td>0.36</td>\n",
              "      <td>395</td>\n",
              "      <td>378</td>\n",
              "      <td>388</td>\n",
              "    </tr>\n",
              "    <tr>\n",
              "      <th>1</th>\n",
              "      <td>Alameda Unified</td>\n",
              "      <td>Alameda</td>\n",
              "      <td>858</td>\n",
              "      <td>472</td>\n",
              "      <td>0.55</td>\n",
              "      <td>527</td>\n",
              "      <td>543</td>\n",
              "      <td>514</td>\n",
              "    </tr>\n",
              "    <tr>\n",
              "      <th>2</th>\n",
              "      <td>Albany City Unified</td>\n",
              "      <td>Alameda</td>\n",
              "      <td>300</td>\n",
              "      <td>179</td>\n",
              "      <td>0.60</td>\n",
              "      <td>585</td>\n",
              "      <td>607</td>\n",
              "      <td>575</td>\n",
              "    </tr>\n",
              "    <tr>\n",
              "      <th>3</th>\n",
              "      <td>Berkeley Unified</td>\n",
              "      <td>Alameda</td>\n",
              "      <td>922</td>\n",
              "      <td>542</td>\n",
              "      <td>0.59</td>\n",
              "      <td>561</td>\n",
              "      <td>559</td>\n",
              "      <td>553</td>\n",
              "    </tr>\n",
              "    <tr>\n",
              "      <th>4</th>\n",
              "      <td>Castro Valley Unified</td>\n",
              "      <td>Alameda</td>\n",
              "      <td>789</td>\n",
              "      <td>411</td>\n",
              "      <td>0.52</td>\n",
              "      <td>535</td>\n",
              "      <td>558</td>\n",
              "      <td>531</td>\n",
              "    </tr>\n",
              "  </tbody>\n",
              "</table>\n",
              "</div>"
            ],
            "text/plain": [
              "                                dname    cname  ...  AvgScrMath  AvgScrWrit\n",
              "0  Alameda County Office of Education  Alameda  ...         378         388\n",
              "1                     Alameda Unified  Alameda  ...         543         514\n",
              "2                 Albany City Unified  Alameda  ...         607         575\n",
              "3                    Berkeley Unified  Alameda  ...         559         553\n",
              "4               Castro Valley Unified  Alameda  ...         558         531\n",
              "\n",
              "[5 rows x 8 columns]"
            ]
          },
          "metadata": {
            "tags": []
          },
          "execution_count": 37
        }
      ]
    },
    {
      "cell_type": "code",
      "metadata": {
        "id": "TTMqApMLEQ5n",
        "colab_type": "code",
        "colab": {}
      },
      "source": [
        "## Pandas has been giving me messages about how I'm copying splice\n",
        "## so I need to use a different way of grabbing specific columns\n",
        "## I want to combine these into one total avg score\n",
        "df1['AvgScrMath'] = df1['AvgScrMath'].astype(int)\n",
        "df1['AvgScrRead'] = df1['AvgScrRead'].astype(int)\n",
        "df1['AvgScrWrit'] = df1['AvgScrWrit'].astype(int)\n"
      ],
      "execution_count": 0,
      "outputs": []
    },
    {
      "cell_type": "code",
      "metadata": {
        "id": "ij5qQd8ewSF9",
        "colab_type": "code",
        "colab": {}
      },
      "source": [
        "## I also want to make a column that is combinedavg\n",
        "## since most people look at overall score when they think\n",
        "## about the SAT\n",
        "##df1['combinedavg']= df1.apply(lambda row: (df1.AvgScrWrit + df1.AvgScrRead + df1.AvgScrMath), axis=1)\n",
        "##df1['combinedavg'] =  df1[['AvgScrRead', 'AvgScrWrit', 'AvgScrMath']].sum(axis=1)\n",
        "\n",
        "df1['combinedavg'] = df1['AvgScrMath'] + df1['AvgScrRead'] + df1['AvgScrWrit']\n"
      ],
      "execution_count": 0,
      "outputs": []
    },
    {
      "cell_type": "code",
      "metadata": {
        "id": "zFkPHvqdFLy0",
        "colab_type": "code",
        "colab": {}
      },
      "source": [
        "## reorganize my columns\n",
        "df1 = df1[['dname', 'cname', 'enroll12', 'NumTstTakr', 'percentage', 'combinedavg' , 'AvgScrRead', 'AvgScrMath',\n",
        "       'AvgScrWrit']]"
      ],
      "execution_count": 0,
      "outputs": []
    },
    {
      "cell_type": "code",
      "metadata": {
        "id": "R93hevikFcTA",
        "colab_type": "code",
        "outputId": "aec97bef-cbd5-4ae1-b5ae-e8d49fe281de",
        "colab": {
          "base_uri": "https://localhost:8080/",
          "height": 377
        }
      },
      "source": [
        "df1.head()"
      ],
      "execution_count": 41,
      "outputs": [
        {
          "output_type": "execute_result",
          "data": {
            "text/html": [
              "<div>\n",
              "<style scoped>\n",
              "    .dataframe tbody tr th:only-of-type {\n",
              "        vertical-align: middle;\n",
              "    }\n",
              "\n",
              "    .dataframe tbody tr th {\n",
              "        vertical-align: top;\n",
              "    }\n",
              "\n",
              "    .dataframe thead th {\n",
              "        text-align: right;\n",
              "    }\n",
              "</style>\n",
              "<table border=\"1\" class=\"dataframe\">\n",
              "  <thead>\n",
              "    <tr style=\"text-align: right;\">\n",
              "      <th></th>\n",
              "      <th>dname</th>\n",
              "      <th>cname</th>\n",
              "      <th>enroll12</th>\n",
              "      <th>NumTstTakr</th>\n",
              "      <th>percentage</th>\n",
              "      <th>combinedavg</th>\n",
              "      <th>AvgScrRead</th>\n",
              "      <th>AvgScrMath</th>\n",
              "      <th>AvgScrWrit</th>\n",
              "    </tr>\n",
              "  </thead>\n",
              "  <tbody>\n",
              "    <tr>\n",
              "      <th>0</th>\n",
              "      <td>Alameda County Office of Education</td>\n",
              "      <td>Alameda</td>\n",
              "      <td>263</td>\n",
              "      <td>95</td>\n",
              "      <td>0.36</td>\n",
              "      <td>1161</td>\n",
              "      <td>395</td>\n",
              "      <td>378</td>\n",
              "      <td>388</td>\n",
              "    </tr>\n",
              "    <tr>\n",
              "      <th>1</th>\n",
              "      <td>Alameda Unified</td>\n",
              "      <td>Alameda</td>\n",
              "      <td>858</td>\n",
              "      <td>472</td>\n",
              "      <td>0.55</td>\n",
              "      <td>1584</td>\n",
              "      <td>527</td>\n",
              "      <td>543</td>\n",
              "      <td>514</td>\n",
              "    </tr>\n",
              "    <tr>\n",
              "      <th>2</th>\n",
              "      <td>Albany City Unified</td>\n",
              "      <td>Alameda</td>\n",
              "      <td>300</td>\n",
              "      <td>179</td>\n",
              "      <td>0.60</td>\n",
              "      <td>1767</td>\n",
              "      <td>585</td>\n",
              "      <td>607</td>\n",
              "      <td>575</td>\n",
              "    </tr>\n",
              "    <tr>\n",
              "      <th>3</th>\n",
              "      <td>Berkeley Unified</td>\n",
              "      <td>Alameda</td>\n",
              "      <td>922</td>\n",
              "      <td>542</td>\n",
              "      <td>0.59</td>\n",
              "      <td>1673</td>\n",
              "      <td>561</td>\n",
              "      <td>559</td>\n",
              "      <td>553</td>\n",
              "    </tr>\n",
              "    <tr>\n",
              "      <th>4</th>\n",
              "      <td>Castro Valley Unified</td>\n",
              "      <td>Alameda</td>\n",
              "      <td>789</td>\n",
              "      <td>411</td>\n",
              "      <td>0.52</td>\n",
              "      <td>1624</td>\n",
              "      <td>535</td>\n",
              "      <td>558</td>\n",
              "      <td>531</td>\n",
              "    </tr>\n",
              "  </tbody>\n",
              "</table>\n",
              "</div>"
            ],
            "text/plain": [
              "                                dname    cname  ...  AvgScrMath  AvgScrWrit\n",
              "0  Alameda County Office of Education  Alameda  ...         378         388\n",
              "1                     Alameda Unified  Alameda  ...         543         514\n",
              "2                 Albany City Unified  Alameda  ...         607         575\n",
              "3                    Berkeley Unified  Alameda  ...         559         553\n",
              "4               Castro Valley Unified  Alameda  ...         558         531\n",
              "\n",
              "[5 rows x 9 columns]"
            ]
          },
          "metadata": {
            "tags": []
          },
          "execution_count": 41
        }
      ]
    },
    {
      "cell_type": "code",
      "metadata": {
        "id": "GURtodKkO94Y",
        "colab_type": "code",
        "outputId": "33f649cd-6827-41dc-be2f-6e62b2859651",
        "colab": {
          "base_uri": "https://localhost:8080/",
          "height": 377
        }
      },
      "source": [
        "## a little more cleaning\n",
        "df1.columns = ['district', 'county', 'testable_students', 'num_test_takers', 'percent_tested', 'combined_avg', 'avg_read_score', 'avg_math_score', 'avg_writ_score']\n",
        "df1.head()\n"
      ],
      "execution_count": 42,
      "outputs": [
        {
          "output_type": "execute_result",
          "data": {
            "text/html": [
              "<div>\n",
              "<style scoped>\n",
              "    .dataframe tbody tr th:only-of-type {\n",
              "        vertical-align: middle;\n",
              "    }\n",
              "\n",
              "    .dataframe tbody tr th {\n",
              "        vertical-align: top;\n",
              "    }\n",
              "\n",
              "    .dataframe thead th {\n",
              "        text-align: right;\n",
              "    }\n",
              "</style>\n",
              "<table border=\"1\" class=\"dataframe\">\n",
              "  <thead>\n",
              "    <tr style=\"text-align: right;\">\n",
              "      <th></th>\n",
              "      <th>district</th>\n",
              "      <th>county</th>\n",
              "      <th>testable_students</th>\n",
              "      <th>num_test_takers</th>\n",
              "      <th>percent_tested</th>\n",
              "      <th>combined_avg</th>\n",
              "      <th>avg_read_score</th>\n",
              "      <th>avg_math_score</th>\n",
              "      <th>avg_writ_score</th>\n",
              "    </tr>\n",
              "  </thead>\n",
              "  <tbody>\n",
              "    <tr>\n",
              "      <th>0</th>\n",
              "      <td>Alameda County Office of Education</td>\n",
              "      <td>Alameda</td>\n",
              "      <td>263</td>\n",
              "      <td>95</td>\n",
              "      <td>0.36</td>\n",
              "      <td>1161</td>\n",
              "      <td>395</td>\n",
              "      <td>378</td>\n",
              "      <td>388</td>\n",
              "    </tr>\n",
              "    <tr>\n",
              "      <th>1</th>\n",
              "      <td>Alameda Unified</td>\n",
              "      <td>Alameda</td>\n",
              "      <td>858</td>\n",
              "      <td>472</td>\n",
              "      <td>0.55</td>\n",
              "      <td>1584</td>\n",
              "      <td>527</td>\n",
              "      <td>543</td>\n",
              "      <td>514</td>\n",
              "    </tr>\n",
              "    <tr>\n",
              "      <th>2</th>\n",
              "      <td>Albany City Unified</td>\n",
              "      <td>Alameda</td>\n",
              "      <td>300</td>\n",
              "      <td>179</td>\n",
              "      <td>0.60</td>\n",
              "      <td>1767</td>\n",
              "      <td>585</td>\n",
              "      <td>607</td>\n",
              "      <td>575</td>\n",
              "    </tr>\n",
              "    <tr>\n",
              "      <th>3</th>\n",
              "      <td>Berkeley Unified</td>\n",
              "      <td>Alameda</td>\n",
              "      <td>922</td>\n",
              "      <td>542</td>\n",
              "      <td>0.59</td>\n",
              "      <td>1673</td>\n",
              "      <td>561</td>\n",
              "      <td>559</td>\n",
              "      <td>553</td>\n",
              "    </tr>\n",
              "    <tr>\n",
              "      <th>4</th>\n",
              "      <td>Castro Valley Unified</td>\n",
              "      <td>Alameda</td>\n",
              "      <td>789</td>\n",
              "      <td>411</td>\n",
              "      <td>0.52</td>\n",
              "      <td>1624</td>\n",
              "      <td>535</td>\n",
              "      <td>558</td>\n",
              "      <td>531</td>\n",
              "    </tr>\n",
              "  </tbody>\n",
              "</table>\n",
              "</div>"
            ],
            "text/plain": [
              "                             district   county  ...  avg_math_score  avg_writ_score\n",
              "0  Alameda County Office of Education  Alameda  ...             378             388\n",
              "1                     Alameda Unified  Alameda  ...             543             514\n",
              "2                 Albany City Unified  Alameda  ...             607             575\n",
              "3                    Berkeley Unified  Alameda  ...             559             553\n",
              "4               Castro Valley Unified  Alameda  ...             558             531\n",
              "\n",
              "[5 rows x 9 columns]"
            ]
          },
          "metadata": {
            "tags": []
          },
          "execution_count": 42
        }
      ]
    },
    {
      "cell_type": "code",
      "metadata": {
        "id": "Ug175u1WedWo",
        "colab_type": "code",
        "colab": {}
      },
      "source": [
        "## for the purpose of this assignment I'm going to drop the seperate scores\n",
        "df1 = df1.drop(['avg_read_score', 'avg_math_score','avg_writ_score'], axis = 1)\n"
      ],
      "execution_count": 0,
      "outputs": []
    },
    {
      "cell_type": "code",
      "metadata": {
        "id": "AQCE5QSFfCSV",
        "colab_type": "code",
        "colab": {
          "base_uri": "https://localhost:8080/",
          "height": 221
        },
        "outputId": "7a424bda-8756-4df4-f250-a6d16de30e81"
      },
      "source": [
        "df1.head()"
      ],
      "execution_count": 44,
      "outputs": [
        {
          "output_type": "execute_result",
          "data": {
            "text/html": [
              "<div>\n",
              "<style scoped>\n",
              "    .dataframe tbody tr th:only-of-type {\n",
              "        vertical-align: middle;\n",
              "    }\n",
              "\n",
              "    .dataframe tbody tr th {\n",
              "        vertical-align: top;\n",
              "    }\n",
              "\n",
              "    .dataframe thead th {\n",
              "        text-align: right;\n",
              "    }\n",
              "</style>\n",
              "<table border=\"1\" class=\"dataframe\">\n",
              "  <thead>\n",
              "    <tr style=\"text-align: right;\">\n",
              "      <th></th>\n",
              "      <th>district</th>\n",
              "      <th>county</th>\n",
              "      <th>testable_students</th>\n",
              "      <th>num_test_takers</th>\n",
              "      <th>percent_tested</th>\n",
              "      <th>combined_avg</th>\n",
              "    </tr>\n",
              "  </thead>\n",
              "  <tbody>\n",
              "    <tr>\n",
              "      <th>0</th>\n",
              "      <td>Alameda County Office of Education</td>\n",
              "      <td>Alameda</td>\n",
              "      <td>263</td>\n",
              "      <td>95</td>\n",
              "      <td>0.36</td>\n",
              "      <td>1161</td>\n",
              "    </tr>\n",
              "    <tr>\n",
              "      <th>1</th>\n",
              "      <td>Alameda Unified</td>\n",
              "      <td>Alameda</td>\n",
              "      <td>858</td>\n",
              "      <td>472</td>\n",
              "      <td>0.55</td>\n",
              "      <td>1584</td>\n",
              "    </tr>\n",
              "    <tr>\n",
              "      <th>2</th>\n",
              "      <td>Albany City Unified</td>\n",
              "      <td>Alameda</td>\n",
              "      <td>300</td>\n",
              "      <td>179</td>\n",
              "      <td>0.60</td>\n",
              "      <td>1767</td>\n",
              "    </tr>\n",
              "    <tr>\n",
              "      <th>3</th>\n",
              "      <td>Berkeley Unified</td>\n",
              "      <td>Alameda</td>\n",
              "      <td>922</td>\n",
              "      <td>542</td>\n",
              "      <td>0.59</td>\n",
              "      <td>1673</td>\n",
              "    </tr>\n",
              "    <tr>\n",
              "      <th>4</th>\n",
              "      <td>Castro Valley Unified</td>\n",
              "      <td>Alameda</td>\n",
              "      <td>789</td>\n",
              "      <td>411</td>\n",
              "      <td>0.52</td>\n",
              "      <td>1624</td>\n",
              "    </tr>\n",
              "  </tbody>\n",
              "</table>\n",
              "</div>"
            ],
            "text/plain": [
              "                             district   county  ...  percent_tested  combined_avg\n",
              "0  Alameda County Office of Education  Alameda  ...            0.36          1161\n",
              "1                     Alameda Unified  Alameda  ...            0.55          1584\n",
              "2                 Albany City Unified  Alameda  ...            0.60          1767\n",
              "3                    Berkeley Unified  Alameda  ...            0.59          1673\n",
              "4               Castro Valley Unified  Alameda  ...            0.52          1624\n",
              "\n",
              "[5 rows x 6 columns]"
            ]
          },
          "metadata": {
            "tags": []
          },
          "execution_count": 44
        }
      ]
    },
    {
      "cell_type": "markdown",
      "metadata": {
        "id": "PLkeiHTymrEo",
        "colab_type": "text"
      },
      "source": [
        "# Data Exploration"
      ]
    },
    {
      "cell_type": "code",
      "metadata": {
        "id": "C66ZqEvFQIgl",
        "colab_type": "code",
        "outputId": "95042992-7d26-42c5-b62a-0f7c8388f1d4",
        "colab": {
          "base_uri": "https://localhost:8080/",
          "height": 742
        }
      },
      "source": [
        "sns.pairplot(df1)"
      ],
      "execution_count": 45,
      "outputs": [
        {
          "output_type": "execute_result",
          "data": {
            "text/plain": [
              "<seaborn.axisgrid.PairGrid at 0x7f952023f668>"
            ]
          },
          "metadata": {
            "tags": []
          },
          "execution_count": 45
        },
        {
          "output_type": "display_data",
          "data": {
            "image/png": "[encoded data removed]",
            "text/plain": [
              "<Figure size 720x720 with 20 Axes>"
            ]
          },
          "metadata": {
            "tags": []
          }
        }
      ]
    },
    {
      "cell_type": "code",
      "metadata": {
        "id": "X8N5mNe8Q9qo",
        "colab_type": "code",
        "outputId": "9ce82c98-e013-4d76-f4c6-c49903e1125b",
        "colab": {
          "base_uri": "https://localhost:8080/",
          "height": 285
        }
      },
      "source": [
        "plt.scatter(df1['percent_tested'], df1['combined_avg'])"
      ],
      "execution_count": 46,
      "outputs": [
        {
          "output_type": "execute_result",
          "data": {
            "text/plain": [
              "<matplotlib.collections.PathCollection at 0x7f951bf3e748>"
            ]
          },
          "metadata": {
            "tags": []
          },
          "execution_count": 46
        },
        {
          "output_type": "display_data",
          "data": {
            "image/png": "[encoded data removed]",
            "text/plain": [
              "<Figure size 432x288 with 1 Axes>"
            ]
          },
          "metadata": {
            "tags": []
          }
        }
      ]
    },
    {
      "cell_type": "code",
      "metadata": {
        "id": "mhPB6Z08_6OV",
        "colab_type": "code",
        "colab": {
          "base_uri": "https://localhost:8080/",
          "height": 68
        },
        "outputId": "668f602b-ee02-42d6-c606-625cb60a00c7"
      },
      "source": [
        "df1.columns"
      ],
      "execution_count": 47,
      "outputs": [
        {
          "output_type": "execute_result",
          "data": {
            "text/plain": [
              "Index(['district', 'county', 'testable_students', 'num_test_takers',\n",
              "       'percent_tested', 'combined_avg'],\n",
              "      dtype='object')"
            ]
          },
          "metadata": {
            "tags": []
          },
          "execution_count": 47
        }
      ]
    },
    {
      "cell_type": "code",
      "metadata": {
        "id": "kdrJ82rvn2_D",
        "colab_type": "code",
        "colab": {
          "base_uri": "https://localhost:8080/",
          "height": 296
        },
        "outputId": "42d60cf6-099b-4143-9949-e3f82187e0e7"
      },
      "source": [
        "## lets look at percent tested\n",
        "## play around with a bar plot\n",
        "sns.barplot(x = df1['district'], y = df1['num_test_takers'])\n"
      ],
      "execution_count": 48,
      "outputs": [
        {
          "output_type": "execute_result",
          "data": {
            "text/plain": [
              "<matplotlib.axes._subplots.AxesSubplot at 0x7f951bf1d128>"
            ]
          },
          "metadata": {
            "tags": []
          },
          "execution_count": 48
        },
        {
          "output_type": "display_data",
          "data": {
            "image/png": "[encoded data removed]",
            "text/plain": [
              "<Figure size 432x288 with 1 Axes>"
            ]
          },
          "metadata": {
            "tags": []
          }
        }
      ]
    },
    {
      "cell_type": "code",
      "metadata": {
        "id": "rsBxy94YA_mM",
        "colab_type": "code",
        "colab": {
          "base_uri": "https://localhost:8080/",
          "height": 296
        },
        "outputId": "2032a11c-ebf1-4b6f-aa27-b63d401f90ff"
      },
      "source": [
        "## lets see a scatterplot\n",
        "sns.scatterplot(x = 'district', y= 'num_test_takers' , data = df1)"
      ],
      "execution_count": 49,
      "outputs": [
        {
          "output_type": "execute_result",
          "data": {
            "text/plain": [
              "<matplotlib.axes._subplots.AxesSubplot at 0x7f951a237a58>"
            ]
          },
          "metadata": {
            "tags": []
          },
          "execution_count": 49
        },
        {
          "output_type": "display_data",
          "data": {
            "image/png": "[encoded data removed]",
            "text/plain": [
              "<Figure size 432x288 with 1 Axes>"
            ]
          },
          "metadata": {
            "tags": []
          }
        }
      ]
    },
    {
      "cell_type": "code",
      "metadata": {
        "id": "-2T59J73E1JU",
        "colab_type": "code",
        "colab": {
          "base_uri": "https://localhost:8080/",
          "height": 221
        },
        "outputId": "0b00170c-4979-46d0-c12d-4bff08e37d1c"
      },
      "source": [
        "df1['county'][:]"
      ],
      "execution_count": 50,
      "outputs": [
        {
          "output_type": "execute_result",
          "data": {
            "text/plain": [
              "0      Alameda\n",
              "1      Alameda\n",
              "2      Alameda\n",
              "3      Alameda\n",
              "4      Alameda\n",
              "        ...   \n",
              "515       Yolo\n",
              "516       Yolo\n",
              "517       Yolo\n",
              "520       Yuba\n",
              "521       Yuba\n",
              "Name: county, Length: 422, dtype: object"
            ]
          },
          "metadata": {
            "tags": []
          },
          "execution_count": 50
        }
      ]
    },
    {
      "cell_type": "code",
      "metadata": {
        "id": "aKbuzs8IC9ZH",
        "colab_type": "code",
        "colab": {
          "base_uri": "https://localhost:8080/",
          "height": 296
        },
        "outputId": "8f20f3cc-b250-449b-b78a-ec671e05537d"
      },
      "source": [
        "## I guess what I'm noticing is that I have too many districts to look at\n",
        "## I live in Ventura County so I am going to subset \n",
        "sns.barplot(x ='district', y='num_test_takers', data = df1.query(\"county == 'Ventura'\"))"
      ],
      "execution_count": 51,
      "outputs": [
        {
          "output_type": "execute_result",
          "data": {
            "text/plain": [
              "<matplotlib.axes._subplots.AxesSubplot at 0x7f95195393c8>"
            ]
          },
          "metadata": {
            "tags": []
          },
          "execution_count": 51
        },
        {
          "output_type": "display_data",
          "data": {
            "image/png": "[encoded data removed]",
            "text/plain": [
              "<Figure size 432x288 with 1 Axes>"
            ]
          },
          "metadata": {
            "tags": []
          }
        }
      ]
    },
    {
      "cell_type": "code",
      "metadata": {
        "id": "h1k0v0bNFNIE",
        "colab_type": "code",
        "colab": {}
      },
      "source": [
        "ventura = df1[df1['county'] == 'Ventura']"
      ],
      "execution_count": 0,
      "outputs": []
    },
    {
      "cell_type": "code",
      "metadata": {
        "id": "EKTOuWJAGFYf",
        "colab_type": "code",
        "colab": {
          "base_uri": "https://localhost:8080/",
          "height": 68
        },
        "outputId": "b20b94a2-8e86-42f1-bc60-fcb82cb71eff"
      },
      "source": [
        "ventura.columns"
      ],
      "execution_count": 53,
      "outputs": [
        {
          "output_type": "execute_result",
          "data": {
            "text/plain": [
              "Index(['district', 'county', 'testable_students', 'num_test_takers',\n",
              "       'percent_tested', 'combined_avg'],\n",
              "      dtype='object')"
            ]
          },
          "metadata": {
            "tags": []
          },
          "execution_count": 53
        }
      ]
    },
    {
      "cell_type": "code",
      "metadata": {
        "id": "IHgSfqKEFWsw",
        "colab_type": "code",
        "colab": {
          "base_uri": "https://localhost:8080/",
          "height": 296
        },
        "outputId": "30098263-a0bb-4e83-fe3f-a8017665fbbc"
      },
      "source": [
        "sns.barplot(x = 'district', y = 'num_test_takers', data = ventura)"
      ],
      "execution_count": 54,
      "outputs": [
        {
          "output_type": "execute_result",
          "data": {
            "text/plain": [
              "<matplotlib.axes._subplots.AxesSubplot at 0x7f95193b0a58>"
            ]
          },
          "metadata": {
            "tags": []
          },
          "execution_count": 54
        },
        {
          "output_type": "display_data",
          "data": {
            "image/png": "[encoded data removed]",
            "text/plain": [
              "<Figure size 432x288 with 1 Axes>"
            ]
          },
          "metadata": {
            "tags": []
          }
        }
      ]
    },
    {
      "cell_type": "code",
      "metadata": {
        "id": "qs5D5JoiF0ZV",
        "colab_type": "code",
        "colab": {
          "base_uri": "https://localhost:8080/",
          "height": 742
        },
        "outputId": "912acb9f-bc47-4ba0-fbba-665c268d0a00"
      },
      "source": [
        "sns.pairplot(ventura)"
      ],
      "execution_count": 55,
      "outputs": [
        {
          "output_type": "execute_result",
          "data": {
            "text/plain": [
              "<seaborn.axisgrid.PairGrid at 0x7f95193aa7b8>"
            ]
          },
          "metadata": {
            "tags": []
          },
          "execution_count": 55
        },
        {
          "output_type": "display_data",
          "data": {
            "image/png": "[encoded data removed]",
            "text/plain": [
              "<Figure size 720x720 with 20 Axes>"
            ]
          },
          "metadata": {
            "tags": []
          }
        }
      ]
    },
    {
      "cell_type": "code",
      "metadata": {
        "id": "PTjZADEQGhLz",
        "colab_type": "code",
        "colab": {
          "base_uri": "https://localhost:8080/",
          "height": 297
        },
        "outputId": "ae98f9c7-cd8f-45ff-c101-d08a9a82e791"
      },
      "source": [
        "sns.scatterplot(x = 'percent_tested', y = 'combined_avg', hue = 'district', data = ventura)"
      ],
      "execution_count": 57,
      "outputs": [
        {
          "output_type": "execute_result",
          "data": {
            "text/plain": [
              "<matplotlib.axes._subplots.AxesSubplot at 0x7f9518d4bf98>"
            ]
          },
          "metadata": {
            "tags": []
          },
          "execution_count": 57
        },
        {
          "output_type": "display_data",
          "data": {
            "image/png": "[encoded data removed]",
            "text/plain": [
              "<Figure size 432x288 with 1 Axes>"
            ]
          },
          "metadata": {
            "tags": []
          }
        }
      ]
    },
    {
      "cell_type": "code",
      "metadata": {
        "id": "nEY_u17vHaMZ",
        "colab_type": "code",
        "colab": {
          "base_uri": "https://localhost:8080/",
          "height": 280
        },
        "outputId": "4d8f9978-e940-4933-a744-bafa71513c98"
      },
      "source": [
        "import matplotlib.pyplot as plt\n",
        "import seaborn as sns\n",
        "\n",
        "data = ventura['percent_tested']\n",
        "\n",
        "fig, ax = plt.subplots()\n",
        "sns.distplot(data, ax=ax)\n",
        "ax.set_xlim(0,1)\n",
        "ax.set_xticks(range(0,1))\n",
        "plt.show()"
      ],
      "execution_count": 58,
      "outputs": [
        {
          "output_type": "display_data",
          "data": {
            "image/png": "[encoded data removed]",
            "text/plain": [
              "<Figure size 432x288 with 1 Axes>"
            ]
          },
          "metadata": {
            "tags": []
          }
        }
      ]
    },
    {
      "cell_type": "code",
      "metadata": {
        "id": "WzF0MlWeK1ps",
        "colab_type": "code",
        "colab": {
          "base_uri": "https://localhost:8080/",
          "height": 187
        },
        "outputId": "888fd61e-637d-4c6c-d0f0-1ef7a023970f"
      },
      "source": [
        "test = ventura['district']\n",
        "print(ventura['district'])"
      ],
      "execution_count": 59,
      "outputs": [
        {
          "output_type": "stream",
          "text": [
            "501         Fillmore Unified\n",
            "504             Ojai Unified\n",
            "505        Oxnard Union High\n",
            "506      Simi Valley Unified\n",
            "507          Ventura Unified\n",
            "508    Conejo Valley Unified\n",
            "509         Oak Park Unified\n",
            "510         Moorpark Unified\n",
            "511      Santa Paula Unified\n",
            "Name: district, dtype: object\n"
          ],
          "name": "stdout"
        }
      ]
    },
    {
      "cell_type": "code",
      "metadata": {
        "id": "P2SqWZc0Iy7J",
        "colab_type": "code",
        "colab": {
          "base_uri": "https://localhost:8080/",
          "height": 139
        },
        "outputId": "3f5a2491-24c3-4b45-a50f-a71f1ad3a267"
      },
      "source": [
        "## I want to show test taking percentages for each school district in the county\n",
        "## I also want to edit the df and remove\n",
        "\n",
        "ventura['district'] = ventura['district'].astype(str)"
      ],
      "execution_count": 60,
      "outputs": [
        {
          "output_type": "stream",
          "text": [
            "/usr/local/lib/python3.6/dist-packages/ipykernel_launcher.py:2: SettingWithCopyWarning: \n",
            "A value is trying to be set on a copy of a slice from a DataFrame.\n",
            "Try using .loc[row_indexer,col_indexer] = value instead\n",
            "\n",
            "See the caveats in the documentation: http://pandas.pydata.org/pandas-docs/stable/user_guide/indexing.html#returning-a-view-versus-a-copy\n",
            "  \n"
          ],
          "name": "stderr"
        }
      ]
    },
    {
      "cell_type": "code",
      "metadata": {
        "id": "p0EOBCokMCNl",
        "colab_type": "code",
        "colab": {
          "base_uri": "https://localhost:8080/",
          "height": 139
        },
        "outputId": "48cec0ee-8ae9-46ce-8d8a-aff14a498e63"
      },
      "source": [
        "## eliminate the Unified\n",
        "ventura['district'] = ventura['district'].str.replace('Unified', '')"
      ],
      "execution_count": 61,
      "outputs": [
        {
          "output_type": "stream",
          "text": [
            "/usr/local/lib/python3.6/dist-packages/ipykernel_launcher.py:1: SettingWithCopyWarning: \n",
            "A value is trying to be set on a copy of a slice from a DataFrame.\n",
            "Try using .loc[row_indexer,col_indexer] = value instead\n",
            "\n",
            "See the caveats in the documentation: http://pandas.pydata.org/pandas-docs/stable/user_guide/indexing.html#returning-a-view-versus-a-copy\n",
            "  \"\"\"Entry point for launching an IPython kernel.\n"
          ],
          "name": "stderr"
        }
      ]
    },
    {
      "cell_type": "code",
      "metadata": {
        "id": "LLbV36j9Mdg2",
        "colab_type": "code",
        "colab": {
          "base_uri": "https://localhost:8080/",
          "height": 139
        },
        "outputId": "7b94fea8-dca7-48a0-e1b3-ac793cd01c86"
      },
      "source": [
        "## eliminate the High\n",
        "ventura['district'] = ventura['district'].str.replace('High', '')"
      ],
      "execution_count": 62,
      "outputs": [
        {
          "output_type": "stream",
          "text": [
            "/usr/local/lib/python3.6/dist-packages/ipykernel_launcher.py:1: SettingWithCopyWarning: \n",
            "A value is trying to be set on a copy of a slice from a DataFrame.\n",
            "Try using .loc[row_indexer,col_indexer] = value instead\n",
            "\n",
            "See the caveats in the documentation: http://pandas.pydata.org/pandas-docs/stable/user_guide/indexing.html#returning-a-view-versus-a-copy\n",
            "  \"\"\"Entry point for launching an IPython kernel.\n"
          ],
          "name": "stderr"
        }
      ]
    },
    {
      "cell_type": "code",
      "metadata": {
        "id": "u2w2cIWuMqC8",
        "colab_type": "code",
        "colab": {
          "base_uri": "https://localhost:8080/",
          "height": 136
        },
        "outputId": "c2bc4aa0-8797-4e04-ed0a-5ffa18fa6d7d"
      },
      "source": [
        "ventura.dtypes"
      ],
      "execution_count": 64,
      "outputs": [
        {
          "output_type": "execute_result",
          "data": {
            "text/plain": [
              "district              object\n",
              "county                object\n",
              "testable_students      int64\n",
              "num_test_takers        int64\n",
              "percent_tested       float64\n",
              "combined_avg           int64\n",
              "dtype: object"
            ]
          },
          "metadata": {
            "tags": []
          },
          "execution_count": 64
        }
      ]
    },
    {
      "cell_type": "code",
      "metadata": {
        "id": "e6hyXXUqN6S8",
        "colab_type": "code",
        "colab": {
          "base_uri": "https://localhost:8080/",
          "height": 34
        },
        "outputId": "875cca73-dac7-4c90-b51f-a7692dbe08ed"
      },
      "source": [
        "ventura['num_test_takers'].sum()"
      ],
      "execution_count": 65,
      "outputs": [
        {
          "output_type": "execute_result",
          "data": {
            "text/plain": [
              "4122"
            ]
          },
          "metadata": {
            "tags": []
          },
          "execution_count": 65
        }
      ]
    },
    {
      "cell_type": "code",
      "metadata": {
        "id": "2Ql30XNFOKtR",
        "colab_type": "code",
        "colab": {
          "base_uri": "https://localhost:8080/",
          "height": 34
        },
        "outputId": "6943ac58-8852-45dd-b41c-f475ac1cdd2e"
      },
      "source": [
        "ventura['testable_students'].sum()"
      ],
      "execution_count": 66,
      "outputs": [
        {
          "output_type": "execute_result",
          "data": {
            "text/plain": [
              "10871"
            ]
          },
          "metadata": {
            "tags": []
          },
          "execution_count": 66
        }
      ]
    },
    {
      "cell_type": "code",
      "metadata": {
        "id": "cyd0GLtcOtbt",
        "colab_type": "code",
        "colab": {
          "base_uri": "https://localhost:8080/",
          "height": 248
        },
        "outputId": "896bda69-3527-409a-df3d-a8c6f2e9719f"
      },
      "source": [
        "## lets go for a circle graph\n",
        "## well donut graph\n",
        "plt.pie(ventura['num_test_takers'])\n",
        "plt.show()"
      ],
      "execution_count": 67,
      "outputs": [
        {
          "output_type": "display_data",
          "data": {
            "image/png": "[encoded data removed]",
            "text/plain": [
              "<Figure size 432x288 with 1 Axes>"
            ]
          },
          "metadata": {
            "tags": []
          }
        }
      ]
    },
    {
      "cell_type": "code",
      "metadata": {
        "id": "_eHzKXA9Pajz",
        "colab_type": "code",
        "colab": {
          "base_uri": "https://localhost:8080/",
          "height": 328
        },
        "outputId": "c963b4b5-5db0-4021-f70a-72053ef631a3"
      },
      "source": [
        "## I need to have the total as a datapoint to have this make sense\n",
        "ventura"
      ],
      "execution_count": 68,
      "outputs": [
        {
          "output_type": "execute_result",
          "data": {
            "text/html": [
              "<div>\n",
              "<style scoped>\n",
              "    .dataframe tbody tr th:only-of-type {\n",
              "        vertical-align: middle;\n",
              "    }\n",
              "\n",
              "    .dataframe tbody tr th {\n",
              "        vertical-align: top;\n",
              "    }\n",
              "\n",
              "    .dataframe thead th {\n",
              "        text-align: right;\n",
              "    }\n",
              "</style>\n",
              "<table border=\"1\" class=\"dataframe\">\n",
              "  <thead>\n",
              "    <tr style=\"text-align: right;\">\n",
              "      <th></th>\n",
              "      <th>district</th>\n",
              "      <th>county</th>\n",
              "      <th>testable_students</th>\n",
              "      <th>num_test_takers</th>\n",
              "      <th>percent_tested</th>\n",
              "      <th>combined_avg</th>\n",
              "    </tr>\n",
              "  </thead>\n",
              "  <tbody>\n",
              "    <tr>\n",
              "      <th>501</th>\n",
              "      <td>Fillmore</td>\n",
              "      <td>Ventura</td>\n",
              "      <td>241</td>\n",
              "      <td>68</td>\n",
              "      <td>0.28</td>\n",
              "      <td>1389</td>\n",
              "    </tr>\n",
              "    <tr>\n",
              "      <th>504</th>\n",
              "      <td>Ojai</td>\n",
              "      <td>Ventura</td>\n",
              "      <td>236</td>\n",
              "      <td>77</td>\n",
              "      <td>0.33</td>\n",
              "      <td>1511</td>\n",
              "    </tr>\n",
              "    <tr>\n",
              "      <th>505</th>\n",
              "      <td>Oxnard Union</td>\n",
              "      <td>Ventura</td>\n",
              "      <td>4108</td>\n",
              "      <td>1227</td>\n",
              "      <td>0.30</td>\n",
              "      <td>1414</td>\n",
              "    </tr>\n",
              "    <tr>\n",
              "      <th>506</th>\n",
              "      <td>Simi Valley</td>\n",
              "      <td>Ventura</td>\n",
              "      <td>1532</td>\n",
              "      <td>506</td>\n",
              "      <td>0.33</td>\n",
              "      <td>1597</td>\n",
              "    </tr>\n",
              "    <tr>\n",
              "      <th>507</th>\n",
              "      <td>Ventura</td>\n",
              "      <td>Ventura</td>\n",
              "      <td>1395</td>\n",
              "      <td>551</td>\n",
              "      <td>0.39</td>\n",
              "      <td>1558</td>\n",
              "    </tr>\n",
              "    <tr>\n",
              "      <th>508</th>\n",
              "      <td>Conejo Valley</td>\n",
              "      <td>Ventura</td>\n",
              "      <td>1869</td>\n",
              "      <td>1019</td>\n",
              "      <td>0.55</td>\n",
              "      <td>1684</td>\n",
              "    </tr>\n",
              "    <tr>\n",
              "      <th>509</th>\n",
              "      <td>Oak Park</td>\n",
              "      <td>Ventura</td>\n",
              "      <td>422</td>\n",
              "      <td>236</td>\n",
              "      <td>0.56</td>\n",
              "      <td>1785</td>\n",
              "    </tr>\n",
              "    <tr>\n",
              "      <th>510</th>\n",
              "      <td>Moorpark</td>\n",
              "      <td>Ventura</td>\n",
              "      <td>627</td>\n",
              "      <td>276</td>\n",
              "      <td>0.44</td>\n",
              "      <td>1609</td>\n",
              "    </tr>\n",
              "    <tr>\n",
              "      <th>511</th>\n",
              "      <td>Santa Paula</td>\n",
              "      <td>Ventura</td>\n",
              "      <td>441</td>\n",
              "      <td>162</td>\n",
              "      <td>0.37</td>\n",
              "      <td>1290</td>\n",
              "    </tr>\n",
              "  </tbody>\n",
              "</table>\n",
              "</div>"
            ],
            "text/plain": [
              "           district   county  ...  percent_tested  combined_avg\n",
              "501       Fillmore   Ventura  ...            0.28          1389\n",
              "504           Ojai   Ventura  ...            0.33          1511\n",
              "505   Oxnard Union   Ventura  ...            0.30          1414\n",
              "506    Simi Valley   Ventura  ...            0.33          1597\n",
              "507        Ventura   Ventura  ...            0.39          1558\n",
              "508  Conejo Valley   Ventura  ...            0.55          1684\n",
              "509       Oak Park   Ventura  ...            0.56          1785\n",
              "510       Moorpark   Ventura  ...            0.44          1609\n",
              "511    Santa Paula   Ventura  ...            0.37          1290\n",
              "\n",
              "[9 rows x 6 columns]"
            ]
          },
          "metadata": {
            "tags": []
          },
          "execution_count": 68
        }
      ]
    },
    {
      "cell_type": "code",
      "metadata": {
        "id": "L-pY5qRkPvsQ",
        "colab_type": "code",
        "colab": {
          "base_uri": "https://localhost:8080/",
          "height": 252
        },
        "outputId": "2140f1f9-9a32-42b7-88f5-942f9f72c980"
      },
      "source": [
        "ventura.T"
      ],
      "execution_count": 69,
      "outputs": [
        {
          "output_type": "execute_result",
          "data": {
            "text/html": [
              "<div>\n",
              "<style scoped>\n",
              "    .dataframe tbody tr th:only-of-type {\n",
              "        vertical-align: middle;\n",
              "    }\n",
              "\n",
              "    .dataframe tbody tr th {\n",
              "        vertical-align: top;\n",
              "    }\n",
              "\n",
              "    .dataframe thead th {\n",
              "        text-align: right;\n",
              "    }\n",
              "</style>\n",
              "<table border=\"1\" class=\"dataframe\">\n",
              "  <thead>\n",
              "    <tr style=\"text-align: right;\">\n",
              "      <th></th>\n",
              "      <th>501</th>\n",
              "      <th>504</th>\n",
              "      <th>505</th>\n",
              "      <th>506</th>\n",
              "      <th>507</th>\n",
              "      <th>508</th>\n",
              "      <th>509</th>\n",
              "      <th>510</th>\n",
              "      <th>511</th>\n",
              "    </tr>\n",
              "  </thead>\n",
              "  <tbody>\n",
              "    <tr>\n",
              "      <th>district</th>\n",
              "      <td>Fillmore</td>\n",
              "      <td>Ojai</td>\n",
              "      <td>Oxnard Union</td>\n",
              "      <td>Simi Valley</td>\n",
              "      <td>Ventura</td>\n",
              "      <td>Conejo Valley</td>\n",
              "      <td>Oak Park</td>\n",
              "      <td>Moorpark</td>\n",
              "      <td>Santa Paula</td>\n",
              "    </tr>\n",
              "    <tr>\n",
              "      <th>county</th>\n",
              "      <td>Ventura</td>\n",
              "      <td>Ventura</td>\n",
              "      <td>Ventura</td>\n",
              "      <td>Ventura</td>\n",
              "      <td>Ventura</td>\n",
              "      <td>Ventura</td>\n",
              "      <td>Ventura</td>\n",
              "      <td>Ventura</td>\n",
              "      <td>Ventura</td>\n",
              "    </tr>\n",
              "    <tr>\n",
              "      <th>testable_students</th>\n",
              "      <td>241</td>\n",
              "      <td>236</td>\n",
              "      <td>4108</td>\n",
              "      <td>1532</td>\n",
              "      <td>1395</td>\n",
              "      <td>1869</td>\n",
              "      <td>422</td>\n",
              "      <td>627</td>\n",
              "      <td>441</td>\n",
              "    </tr>\n",
              "    <tr>\n",
              "      <th>num_test_takers</th>\n",
              "      <td>68</td>\n",
              "      <td>77</td>\n",
              "      <td>1227</td>\n",
              "      <td>506</td>\n",
              "      <td>551</td>\n",
              "      <td>1019</td>\n",
              "      <td>236</td>\n",
              "      <td>276</td>\n",
              "      <td>162</td>\n",
              "    </tr>\n",
              "    <tr>\n",
              "      <th>percent_tested</th>\n",
              "      <td>0.28</td>\n",
              "      <td>0.33</td>\n",
              "      <td>0.3</td>\n",
              "      <td>0.33</td>\n",
              "      <td>0.39</td>\n",
              "      <td>0.55</td>\n",
              "      <td>0.56</td>\n",
              "      <td>0.44</td>\n",
              "      <td>0.37</td>\n",
              "    </tr>\n",
              "    <tr>\n",
              "      <th>combined_avg</th>\n",
              "      <td>1389</td>\n",
              "      <td>1511</td>\n",
              "      <td>1414</td>\n",
              "      <td>1597</td>\n",
              "      <td>1558</td>\n",
              "      <td>1684</td>\n",
              "      <td>1785</td>\n",
              "      <td>1609</td>\n",
              "      <td>1290</td>\n",
              "    </tr>\n",
              "  </tbody>\n",
              "</table>\n",
              "</div>"
            ],
            "text/plain": [
              "                         501      504  ...        510           511\n",
              "district           Fillmore     Ojai   ...  Moorpark   Santa Paula \n",
              "county               Ventura  Ventura  ...    Ventura       Ventura\n",
              "testable_students        241      236  ...        627           441\n",
              "num_test_takers           68       77  ...        276           162\n",
              "percent_tested          0.28     0.33  ...       0.44          0.37\n",
              "combined_avg            1389     1511  ...       1609          1290\n",
              "\n",
              "[6 rows x 9 columns]"
            ]
          },
          "metadata": {
            "tags": []
          },
          "execution_count": 69
        }
      ]
    },
    {
      "cell_type": "code",
      "metadata": {
        "id": "gnFcy26uRenV",
        "colab_type": "code",
        "colab": {}
      },
      "source": [
        "ventura = ventura.T"
      ],
      "execution_count": 0,
      "outputs": []
    },
    {
      "cell_type": "code",
      "metadata": {
        "id": "bF2iVYEZRkS4",
        "colab_type": "code",
        "colab": {
          "base_uri": "https://localhost:8080/",
          "height": 34
        },
        "outputId": "8a4821a9-ce3e-49ff-c1a0-352438d0fa8d"
      },
      "source": [
        "ventura.loc['num_test_takers'].sum()"
      ],
      "execution_count": 71,
      "outputs": [
        {
          "output_type": "execute_result",
          "data": {
            "text/plain": [
              "4122"
            ]
          },
          "metadata": {
            "tags": []
          },
          "execution_count": 71
        }
      ]
    },
    {
      "cell_type": "code",
      "metadata": {
        "id": "en-ia4iPWPSk",
        "colab_type": "code",
        "colab": {
          "base_uri": "https://localhost:8080/",
          "height": 241
        },
        "outputId": "56808fc1-829c-402e-da9d-eb486585bb87"
      },
      "source": [
        "ventura[512] = ventura.sum(axis=1)\n",
        "ventura.head()"
      ],
      "execution_count": 72,
      "outputs": [
        {
          "output_type": "execute_result",
          "data": {
            "text/html": [
              "<div>\n",
              "<style scoped>\n",
              "    .dataframe tbody tr th:only-of-type {\n",
              "        vertical-align: middle;\n",
              "    }\n",
              "\n",
              "    .dataframe tbody tr th {\n",
              "        vertical-align: top;\n",
              "    }\n",
              "\n",
              "    .dataframe thead th {\n",
              "        text-align: right;\n",
              "    }\n",
              "</style>\n",
              "<table border=\"1\" class=\"dataframe\">\n",
              "  <thead>\n",
              "    <tr style=\"text-align: right;\">\n",
              "      <th></th>\n",
              "      <th>501</th>\n",
              "      <th>504</th>\n",
              "      <th>505</th>\n",
              "      <th>506</th>\n",
              "      <th>507</th>\n",
              "      <th>508</th>\n",
              "      <th>509</th>\n",
              "      <th>510</th>\n",
              "      <th>511</th>\n",
              "      <th>512</th>\n",
              "    </tr>\n",
              "  </thead>\n",
              "  <tbody>\n",
              "    <tr>\n",
              "      <th>district</th>\n",
              "      <td>Fillmore</td>\n",
              "      <td>Ojai</td>\n",
              "      <td>Oxnard Union</td>\n",
              "      <td>Simi Valley</td>\n",
              "      <td>Ventura</td>\n",
              "      <td>Conejo Valley</td>\n",
              "      <td>Oak Park</td>\n",
              "      <td>Moorpark</td>\n",
              "      <td>Santa Paula</td>\n",
              "      <td>Fillmore Ojai Oxnard Union Simi Valley Ventura...</td>\n",
              "    </tr>\n",
              "    <tr>\n",
              "      <th>county</th>\n",
              "      <td>Ventura</td>\n",
              "      <td>Ventura</td>\n",
              "      <td>Ventura</td>\n",
              "      <td>Ventura</td>\n",
              "      <td>Ventura</td>\n",
              "      <td>Ventura</td>\n",
              "      <td>Ventura</td>\n",
              "      <td>Ventura</td>\n",
              "      <td>Ventura</td>\n",
              "      <td>VenturaVenturaVenturaVenturaVenturaVenturaVent...</td>\n",
              "    </tr>\n",
              "    <tr>\n",
              "      <th>testable_students</th>\n",
              "      <td>241</td>\n",
              "      <td>236</td>\n",
              "      <td>4108</td>\n",
              "      <td>1532</td>\n",
              "      <td>1395</td>\n",
              "      <td>1869</td>\n",
              "      <td>422</td>\n",
              "      <td>627</td>\n",
              "      <td>441</td>\n",
              "      <td>10871</td>\n",
              "    </tr>\n",
              "    <tr>\n",
              "      <th>num_test_takers</th>\n",
              "      <td>68</td>\n",
              "      <td>77</td>\n",
              "      <td>1227</td>\n",
              "      <td>506</td>\n",
              "      <td>551</td>\n",
              "      <td>1019</td>\n",
              "      <td>236</td>\n",
              "      <td>276</td>\n",
              "      <td>162</td>\n",
              "      <td>4122</td>\n",
              "    </tr>\n",
              "    <tr>\n",
              "      <th>percent_tested</th>\n",
              "      <td>0.28</td>\n",
              "      <td>0.33</td>\n",
              "      <td>0.3</td>\n",
              "      <td>0.33</td>\n",
              "      <td>0.39</td>\n",
              "      <td>0.55</td>\n",
              "      <td>0.56</td>\n",
              "      <td>0.44</td>\n",
              "      <td>0.37</td>\n",
              "      <td>3.55</td>\n",
              "    </tr>\n",
              "  </tbody>\n",
              "</table>\n",
              "</div>"
            ],
            "text/plain": [
              "                         501  ...                                                512\n",
              "district           Fillmore   ...  Fillmore Ojai Oxnard Union Simi Valley Ventura...\n",
              "county               Ventura  ...  VenturaVenturaVenturaVenturaVenturaVenturaVent...\n",
              "testable_students        241  ...                                              10871\n",
              "num_test_takers           68  ...                                               4122\n",
              "percent_tested          0.28  ...                                               3.55\n",
              "\n",
              "[5 rows x 10 columns]"
            ]
          },
          "metadata": {
            "tags": []
          },
          "execution_count": 72
        }
      ]
    },
    {
      "cell_type": "code",
      "metadata": {
        "id": "zUygGqXyShHJ",
        "colab_type": "code",
        "colab": {
          "base_uri": "https://localhost:8080/",
          "height": 272
        },
        "outputId": "6d5d3618-5530-4b6c-8ba2-b22d3d06bb51"
      },
      "source": [
        "ventura"
      ],
      "execution_count": 73,
      "outputs": [
        {
          "output_type": "execute_result",
          "data": {
            "text/html": [
              "<div>\n",
              "<style scoped>\n",
              "    .dataframe tbody tr th:only-of-type {\n",
              "        vertical-align: middle;\n",
              "    }\n",
              "\n",
              "    .dataframe tbody tr th {\n",
              "        vertical-align: top;\n",
              "    }\n",
              "\n",
              "    .dataframe thead th {\n",
              "        text-align: right;\n",
              "    }\n",
              "</style>\n",
              "<table border=\"1\" class=\"dataframe\">\n",
              "  <thead>\n",
              "    <tr style=\"text-align: right;\">\n",
              "      <th></th>\n",
              "      <th>501</th>\n",
              "      <th>504</th>\n",
              "      <th>505</th>\n",
              "      <th>506</th>\n",
              "      <th>507</th>\n",
              "      <th>508</th>\n",
              "      <th>509</th>\n",
              "      <th>510</th>\n",
              "      <th>511</th>\n",
              "      <th>512</th>\n",
              "    </tr>\n",
              "  </thead>\n",
              "  <tbody>\n",
              "    <tr>\n",
              "      <th>district</th>\n",
              "      <td>Fillmore</td>\n",
              "      <td>Ojai</td>\n",
              "      <td>Oxnard Union</td>\n",
              "      <td>Simi Valley</td>\n",
              "      <td>Ventura</td>\n",
              "      <td>Conejo Valley</td>\n",
              "      <td>Oak Park</td>\n",
              "      <td>Moorpark</td>\n",
              "      <td>Santa Paula</td>\n",
              "      <td>Fillmore Ojai Oxnard Union Simi Valley Ventura...</td>\n",
              "    </tr>\n",
              "    <tr>\n",
              "      <th>county</th>\n",
              "      <td>Ventura</td>\n",
              "      <td>Ventura</td>\n",
              "      <td>Ventura</td>\n",
              "      <td>Ventura</td>\n",
              "      <td>Ventura</td>\n",
              "      <td>Ventura</td>\n",
              "      <td>Ventura</td>\n",
              "      <td>Ventura</td>\n",
              "      <td>Ventura</td>\n",
              "      <td>VenturaVenturaVenturaVenturaVenturaVenturaVent...</td>\n",
              "    </tr>\n",
              "    <tr>\n",
              "      <th>testable_students</th>\n",
              "      <td>241</td>\n",
              "      <td>236</td>\n",
              "      <td>4108</td>\n",
              "      <td>1532</td>\n",
              "      <td>1395</td>\n",
              "      <td>1869</td>\n",
              "      <td>422</td>\n",
              "      <td>627</td>\n",
              "      <td>441</td>\n",
              "      <td>10871</td>\n",
              "    </tr>\n",
              "    <tr>\n",
              "      <th>num_test_takers</th>\n",
              "      <td>68</td>\n",
              "      <td>77</td>\n",
              "      <td>1227</td>\n",
              "      <td>506</td>\n",
              "      <td>551</td>\n",
              "      <td>1019</td>\n",
              "      <td>236</td>\n",
              "      <td>276</td>\n",
              "      <td>162</td>\n",
              "      <td>4122</td>\n",
              "    </tr>\n",
              "    <tr>\n",
              "      <th>percent_tested</th>\n",
              "      <td>0.28</td>\n",
              "      <td>0.33</td>\n",
              "      <td>0.3</td>\n",
              "      <td>0.33</td>\n",
              "      <td>0.39</td>\n",
              "      <td>0.55</td>\n",
              "      <td>0.56</td>\n",
              "      <td>0.44</td>\n",
              "      <td>0.37</td>\n",
              "      <td>3.55</td>\n",
              "    </tr>\n",
              "    <tr>\n",
              "      <th>combined_avg</th>\n",
              "      <td>1389</td>\n",
              "      <td>1511</td>\n",
              "      <td>1414</td>\n",
              "      <td>1597</td>\n",
              "      <td>1558</td>\n",
              "      <td>1684</td>\n",
              "      <td>1785</td>\n",
              "      <td>1609</td>\n",
              "      <td>1290</td>\n",
              "      <td>13837</td>\n",
              "    </tr>\n",
              "  </tbody>\n",
              "</table>\n",
              "</div>"
            ],
            "text/plain": [
              "                         501  ...                                                512\n",
              "district           Fillmore   ...  Fillmore Ojai Oxnard Union Simi Valley Ventura...\n",
              "county               Ventura  ...  VenturaVenturaVenturaVenturaVenturaVenturaVent...\n",
              "testable_students        241  ...                                              10871\n",
              "num_test_takers           68  ...                                               4122\n",
              "percent_tested          0.28  ...                                               3.55\n",
              "combined_avg            1389  ...                                              13837\n",
              "\n",
              "[6 rows x 10 columns]"
            ]
          },
          "metadata": {
            "tags": []
          },
          "execution_count": 73
        }
      ]
    },
    {
      "cell_type": "code",
      "metadata": {
        "id": "VqzygWuqYGVe",
        "colab_type": "code",
        "colab": {}
      },
      "source": [
        "## rename the columms\n",
        "ventura.columns = ['Fillmore', 'Ojai', 'Oxnard', 'Simi_Valley', 'Ventura', 'Conejo_Valley', 'Oak_Park', 'Moorpark','Santa_Paula', 'Totals']"
      ],
      "execution_count": 0,
      "outputs": []
    },
    {
      "cell_type": "code",
      "metadata": {
        "id": "uq7xJaWbZbcl",
        "colab_type": "code",
        "colab": {
          "base_uri": "https://localhost:8080/",
          "height": 241
        },
        "outputId": "dea0f22a-7c54-42bc-a186-6b42e4f4ce80"
      },
      "source": [
        "ventura.head()"
      ],
      "execution_count": 75,
      "outputs": [
        {
          "output_type": "execute_result",
          "data": {
            "text/html": [
              "<div>\n",
              "<style scoped>\n",
              "    .dataframe tbody tr th:only-of-type {\n",
              "        vertical-align: middle;\n",
              "    }\n",
              "\n",
              "    .dataframe tbody tr th {\n",
              "        vertical-align: top;\n",
              "    }\n",
              "\n",
              "    .dataframe thead th {\n",
              "        text-align: right;\n",
              "    }\n",
              "</style>\n",
              "<table border=\"1\" class=\"dataframe\">\n",
              "  <thead>\n",
              "    <tr style=\"text-align: right;\">\n",
              "      <th></th>\n",
              "      <th>Fillmore</th>\n",
              "      <th>Ojai</th>\n",
              "      <th>Oxnard</th>\n",
              "      <th>Simi_Valley</th>\n",
              "      <th>Ventura</th>\n",
              "      <th>Conejo_Valley</th>\n",
              "      <th>Oak_Park</th>\n",
              "      <th>Moorpark</th>\n",
              "      <th>Santa_Paula</th>\n",
              "      <th>Totals</th>\n",
              "    </tr>\n",
              "  </thead>\n",
              "  <tbody>\n",
              "    <tr>\n",
              "      <th>district</th>\n",
              "      <td>Fillmore</td>\n",
              "      <td>Ojai</td>\n",
              "      <td>Oxnard Union</td>\n",
              "      <td>Simi Valley</td>\n",
              "      <td>Ventura</td>\n",
              "      <td>Conejo Valley</td>\n",
              "      <td>Oak Park</td>\n",
              "      <td>Moorpark</td>\n",
              "      <td>Santa Paula</td>\n",
              "      <td>Fillmore Ojai Oxnard Union Simi Valley Ventura...</td>\n",
              "    </tr>\n",
              "    <tr>\n",
              "      <th>county</th>\n",
              "      <td>Ventura</td>\n",
              "      <td>Ventura</td>\n",
              "      <td>Ventura</td>\n",
              "      <td>Ventura</td>\n",
              "      <td>Ventura</td>\n",
              "      <td>Ventura</td>\n",
              "      <td>Ventura</td>\n",
              "      <td>Ventura</td>\n",
              "      <td>Ventura</td>\n",
              "      <td>VenturaVenturaVenturaVenturaVenturaVenturaVent...</td>\n",
              "    </tr>\n",
              "    <tr>\n",
              "      <th>testable_students</th>\n",
              "      <td>241</td>\n",
              "      <td>236</td>\n",
              "      <td>4108</td>\n",
              "      <td>1532</td>\n",
              "      <td>1395</td>\n",
              "      <td>1869</td>\n",
              "      <td>422</td>\n",
              "      <td>627</td>\n",
              "      <td>441</td>\n",
              "      <td>10871</td>\n",
              "    </tr>\n",
              "    <tr>\n",
              "      <th>num_test_takers</th>\n",
              "      <td>68</td>\n",
              "      <td>77</td>\n",
              "      <td>1227</td>\n",
              "      <td>506</td>\n",
              "      <td>551</td>\n",
              "      <td>1019</td>\n",
              "      <td>236</td>\n",
              "      <td>276</td>\n",
              "      <td>162</td>\n",
              "      <td>4122</td>\n",
              "    </tr>\n",
              "    <tr>\n",
              "      <th>percent_tested</th>\n",
              "      <td>0.28</td>\n",
              "      <td>0.33</td>\n",
              "      <td>0.3</td>\n",
              "      <td>0.33</td>\n",
              "      <td>0.39</td>\n",
              "      <td>0.55</td>\n",
              "      <td>0.56</td>\n",
              "      <td>0.44</td>\n",
              "      <td>0.37</td>\n",
              "      <td>3.55</td>\n",
              "    </tr>\n",
              "  </tbody>\n",
              "</table>\n",
              "</div>"
            ],
            "text/plain": [
              "                    Fillmore  ...                                             Totals\n",
              "district           Fillmore   ...  Fillmore Ojai Oxnard Union Simi Valley Ventura...\n",
              "county               Ventura  ...  VenturaVenturaVenturaVenturaVenturaVenturaVent...\n",
              "testable_students        241  ...                                              10871\n",
              "num_test_takers           68  ...                                               4122\n",
              "percent_tested          0.28  ...                                               3.55\n",
              "\n",
              "[5 rows x 10 columns]"
            ]
          },
          "metadata": {
            "tags": []
          },
          "execution_count": 75
        }
      ]
    },
    {
      "cell_type": "code",
      "metadata": {
        "id": "JwvI8hMNZiCy",
        "colab_type": "code",
        "colab": {}
      },
      "source": [
        "## I dont need district or county rows anymore\n",
        "ventura = ventura.drop(['district', 'county'])"
      ],
      "execution_count": 0,
      "outputs": []
    },
    {
      "cell_type": "code",
      "metadata": {
        "id": "Lot4Y4TCaSmK",
        "colab_type": "code",
        "colab": {
          "base_uri": "https://localhost:8080/",
          "height": 193
        },
        "outputId": "882c86fd-6a66-483b-8b22-20c96aebefb1"
      },
      "source": [
        "ventura"
      ],
      "execution_count": 77,
      "outputs": [
        {
          "output_type": "execute_result",
          "data": {
            "text/html": [
              "<div>\n",
              "<style scoped>\n",
              "    .dataframe tbody tr th:only-of-type {\n",
              "        vertical-align: middle;\n",
              "    }\n",
              "\n",
              "    .dataframe tbody tr th {\n",
              "        vertical-align: top;\n",
              "    }\n",
              "\n",
              "    .dataframe thead th {\n",
              "        text-align: right;\n",
              "    }\n",
              "</style>\n",
              "<table border=\"1\" class=\"dataframe\">\n",
              "  <thead>\n",
              "    <tr style=\"text-align: right;\">\n",
              "      <th></th>\n",
              "      <th>Fillmore</th>\n",
              "      <th>Ojai</th>\n",
              "      <th>Oxnard</th>\n",
              "      <th>Simi_Valley</th>\n",
              "      <th>Ventura</th>\n",
              "      <th>Conejo_Valley</th>\n",
              "      <th>Oak_Park</th>\n",
              "      <th>Moorpark</th>\n",
              "      <th>Santa_Paula</th>\n",
              "      <th>Totals</th>\n",
              "    </tr>\n",
              "  </thead>\n",
              "  <tbody>\n",
              "    <tr>\n",
              "      <th>testable_students</th>\n",
              "      <td>241</td>\n",
              "      <td>236</td>\n",
              "      <td>4108</td>\n",
              "      <td>1532</td>\n",
              "      <td>1395</td>\n",
              "      <td>1869</td>\n",
              "      <td>422</td>\n",
              "      <td>627</td>\n",
              "      <td>441</td>\n",
              "      <td>10871</td>\n",
              "    </tr>\n",
              "    <tr>\n",
              "      <th>num_test_takers</th>\n",
              "      <td>68</td>\n",
              "      <td>77</td>\n",
              "      <td>1227</td>\n",
              "      <td>506</td>\n",
              "      <td>551</td>\n",
              "      <td>1019</td>\n",
              "      <td>236</td>\n",
              "      <td>276</td>\n",
              "      <td>162</td>\n",
              "      <td>4122</td>\n",
              "    </tr>\n",
              "    <tr>\n",
              "      <th>percent_tested</th>\n",
              "      <td>0.28</td>\n",
              "      <td>0.33</td>\n",
              "      <td>0.3</td>\n",
              "      <td>0.33</td>\n",
              "      <td>0.39</td>\n",
              "      <td>0.55</td>\n",
              "      <td>0.56</td>\n",
              "      <td>0.44</td>\n",
              "      <td>0.37</td>\n",
              "      <td>3.55</td>\n",
              "    </tr>\n",
              "    <tr>\n",
              "      <th>combined_avg</th>\n",
              "      <td>1389</td>\n",
              "      <td>1511</td>\n",
              "      <td>1414</td>\n",
              "      <td>1597</td>\n",
              "      <td>1558</td>\n",
              "      <td>1684</td>\n",
              "      <td>1785</td>\n",
              "      <td>1609</td>\n",
              "      <td>1290</td>\n",
              "      <td>13837</td>\n",
              "    </tr>\n",
              "  </tbody>\n",
              "</table>\n",
              "</div>"
            ],
            "text/plain": [
              "                  Fillmore  Ojai Oxnard  ... Moorpark Santa_Paula Totals\n",
              "testable_students      241   236   4108  ...      627         441  10871\n",
              "num_test_takers         68    77   1227  ...      276         162   4122\n",
              "percent_tested        0.28  0.33    0.3  ...     0.44        0.37   3.55\n",
              "combined_avg          1389  1511   1414  ...     1609        1290  13837\n",
              "\n",
              "[4 rows x 10 columns]"
            ]
          },
          "metadata": {
            "tags": []
          },
          "execution_count": 77
        }
      ]
    },
    {
      "cell_type": "code",
      "metadata": {
        "id": "pPzhBGh4awMq",
        "colab_type": "code",
        "colab": {}
      },
      "source": [
        "ventura = ventura.T"
      ],
      "execution_count": 0,
      "outputs": []
    },
    {
      "cell_type": "code",
      "metadata": {
        "id": "E8jXlFe7ai5r",
        "colab_type": "code",
        "colab": {}
      },
      "source": [
        "colors = ['#8A2BE2','#4B0082','#483D8B','#6A5ACD','#7B68EE','#9370DB','#9400D3','#9932CC','#BA55D3','#778899']"
      ],
      "execution_count": 0,
      "outputs": []
    },
    {
      "cell_type": "code",
      "metadata": {
        "id": "BqdKsSeTlSFU",
        "colab_type": "code",
        "colab": {}
      },
      "source": [
        "colors1 = ['#00FF00','#32CD32','#90EE90','#98FB98','#00FA9A','#00FF7F','#2E8B57','#66CDAA','#3CB371','red']"
      ],
      "execution_count": 0,
      "outputs": []
    },
    {
      "cell_type": "code",
      "metadata": {
        "id": "m_OpvVsLpG8k",
        "colab_type": "code",
        "colab": {
          "base_uri": "https://localhost:8080/",
          "height": 359
        },
        "outputId": "03e5f2cb-0f61-49be-a9d6-ca7b93fc93e9"
      },
      "source": [
        "ventura"
      ],
      "execution_count": 94,
      "outputs": [
        {
          "output_type": "execute_result",
          "data": {
            "text/html": [
              "<div>\n",
              "<style scoped>\n",
              "    .dataframe tbody tr th:only-of-type {\n",
              "        vertical-align: middle;\n",
              "    }\n",
              "\n",
              "    .dataframe tbody tr th {\n",
              "        vertical-align: top;\n",
              "    }\n",
              "\n",
              "    .dataframe thead th {\n",
              "        text-align: right;\n",
              "    }\n",
              "</style>\n",
              "<table border=\"1\" class=\"dataframe\">\n",
              "  <thead>\n",
              "    <tr style=\"text-align: right;\">\n",
              "      <th></th>\n",
              "      <th>testable_students</th>\n",
              "      <th>num_test_takers</th>\n",
              "      <th>percent_tested</th>\n",
              "      <th>combined_avg</th>\n",
              "    </tr>\n",
              "  </thead>\n",
              "  <tbody>\n",
              "    <tr>\n",
              "      <th>Fillmore</th>\n",
              "      <td>241</td>\n",
              "      <td>68</td>\n",
              "      <td>0.28</td>\n",
              "      <td>1389</td>\n",
              "    </tr>\n",
              "    <tr>\n",
              "      <th>Ojai</th>\n",
              "      <td>236</td>\n",
              "      <td>77</td>\n",
              "      <td>0.33</td>\n",
              "      <td>1511</td>\n",
              "    </tr>\n",
              "    <tr>\n",
              "      <th>Oxnard</th>\n",
              "      <td>4108</td>\n",
              "      <td>1227</td>\n",
              "      <td>0.3</td>\n",
              "      <td>1414</td>\n",
              "    </tr>\n",
              "    <tr>\n",
              "      <th>Simi_Valley</th>\n",
              "      <td>1532</td>\n",
              "      <td>506</td>\n",
              "      <td>0.33</td>\n",
              "      <td>1597</td>\n",
              "    </tr>\n",
              "    <tr>\n",
              "      <th>Ventura</th>\n",
              "      <td>1395</td>\n",
              "      <td>551</td>\n",
              "      <td>0.39</td>\n",
              "      <td>1558</td>\n",
              "    </tr>\n",
              "    <tr>\n",
              "      <th>Conejo_Valley</th>\n",
              "      <td>1869</td>\n",
              "      <td>1019</td>\n",
              "      <td>0.55</td>\n",
              "      <td>1684</td>\n",
              "    </tr>\n",
              "    <tr>\n",
              "      <th>Oak_Park</th>\n",
              "      <td>422</td>\n",
              "      <td>236</td>\n",
              "      <td>0.56</td>\n",
              "      <td>1785</td>\n",
              "    </tr>\n",
              "    <tr>\n",
              "      <th>Moorpark</th>\n",
              "      <td>627</td>\n",
              "      <td>276</td>\n",
              "      <td>0.44</td>\n",
              "      <td>1609</td>\n",
              "    </tr>\n",
              "    <tr>\n",
              "      <th>Santa_Paula</th>\n",
              "      <td>441</td>\n",
              "      <td>162</td>\n",
              "      <td>0.37</td>\n",
              "      <td>1290</td>\n",
              "    </tr>\n",
              "    <tr>\n",
              "      <th>Totals</th>\n",
              "      <td>10871</td>\n",
              "      <td>4122</td>\n",
              "      <td>3.55</td>\n",
              "      <td>13837</td>\n",
              "    </tr>\n",
              "  </tbody>\n",
              "</table>\n",
              "</div>"
            ],
            "text/plain": [
              "              testable_students num_test_takers percent_tested combined_avg\n",
              "Fillmore                    241              68           0.28         1389\n",
              "Ojai                        236              77           0.33         1511\n",
              "Oxnard                     4108            1227            0.3         1414\n",
              "Simi_Valley                1532             506           0.33         1597\n",
              "Ventura                    1395             551           0.39         1558\n",
              "Conejo_Valley              1869            1019           0.55         1684\n",
              "Oak_Park                    422             236           0.56         1785\n",
              "Moorpark                    627             276           0.44         1609\n",
              "Santa_Paula                 441             162           0.37         1290\n",
              "Totals                    10871            4122           3.55        13837"
            ]
          },
          "metadata": {
            "tags": []
          },
          "execution_count": 94
        }
      ]
    },
    {
      "cell_type": "code",
      "metadata": {
        "id": "Xb6k6PYmp6Zb",
        "colab_type": "code",
        "colab": {}
      },
      "source": [
        "## I had the wrong total for the donut graph I had to force modify it\n",
        "ventura.at['Totals', 'num_test_takers'] = 6749"
      ],
      "execution_count": 0,
      "outputs": []
    },
    {
      "cell_type": "code",
      "metadata": {
        "id": "rkNb8NJsqcB8",
        "colab_type": "code",
        "colab": {
          "base_uri": "https://localhost:8080/",
          "height": 359
        },
        "outputId": "1d28299b-6796-4569-d130-fb6f3f0a0b7e"
      },
      "source": [
        "ventura"
      ],
      "execution_count": 99,
      "outputs": [
        {
          "output_type": "execute_result",
          "data": {
            "text/html": [
              "<div>\n",
              "<style scoped>\n",
              "    .dataframe tbody tr th:only-of-type {\n",
              "        vertical-align: middle;\n",
              "    }\n",
              "\n",
              "    .dataframe tbody tr th {\n",
              "        vertical-align: top;\n",
              "    }\n",
              "\n",
              "    .dataframe thead th {\n",
              "        text-align: right;\n",
              "    }\n",
              "</style>\n",
              "<table border=\"1\" class=\"dataframe\">\n",
              "  <thead>\n",
              "    <tr style=\"text-align: right;\">\n",
              "      <th></th>\n",
              "      <th>testable_students</th>\n",
              "      <th>num_test_takers</th>\n",
              "      <th>percent_tested</th>\n",
              "      <th>combined_avg</th>\n",
              "    </tr>\n",
              "  </thead>\n",
              "  <tbody>\n",
              "    <tr>\n",
              "      <th>Fillmore</th>\n",
              "      <td>241</td>\n",
              "      <td>68</td>\n",
              "      <td>0.28</td>\n",
              "      <td>1389</td>\n",
              "    </tr>\n",
              "    <tr>\n",
              "      <th>Ojai</th>\n",
              "      <td>236</td>\n",
              "      <td>77</td>\n",
              "      <td>0.33</td>\n",
              "      <td>1511</td>\n",
              "    </tr>\n",
              "    <tr>\n",
              "      <th>Oxnard</th>\n",
              "      <td>4108</td>\n",
              "      <td>1227</td>\n",
              "      <td>0.3</td>\n",
              "      <td>1414</td>\n",
              "    </tr>\n",
              "    <tr>\n",
              "      <th>Simi_Valley</th>\n",
              "      <td>1532</td>\n",
              "      <td>506</td>\n",
              "      <td>0.33</td>\n",
              "      <td>1597</td>\n",
              "    </tr>\n",
              "    <tr>\n",
              "      <th>Ventura</th>\n",
              "      <td>1395</td>\n",
              "      <td>551</td>\n",
              "      <td>0.39</td>\n",
              "      <td>1558</td>\n",
              "    </tr>\n",
              "    <tr>\n",
              "      <th>Conejo_Valley</th>\n",
              "      <td>1869</td>\n",
              "      <td>1019</td>\n",
              "      <td>0.55</td>\n",
              "      <td>1684</td>\n",
              "    </tr>\n",
              "    <tr>\n",
              "      <th>Oak_Park</th>\n",
              "      <td>422</td>\n",
              "      <td>236</td>\n",
              "      <td>0.56</td>\n",
              "      <td>1785</td>\n",
              "    </tr>\n",
              "    <tr>\n",
              "      <th>Moorpark</th>\n",
              "      <td>627</td>\n",
              "      <td>276</td>\n",
              "      <td>0.44</td>\n",
              "      <td>1609</td>\n",
              "    </tr>\n",
              "    <tr>\n",
              "      <th>Santa_Paula</th>\n",
              "      <td>441</td>\n",
              "      <td>162</td>\n",
              "      <td>0.37</td>\n",
              "      <td>1290</td>\n",
              "    </tr>\n",
              "    <tr>\n",
              "      <th>Totals</th>\n",
              "      <td>10871</td>\n",
              "      <td>6749</td>\n",
              "      <td>3.55</td>\n",
              "      <td>13837</td>\n",
              "    </tr>\n",
              "  </tbody>\n",
              "</table>\n",
              "</div>"
            ],
            "text/plain": [
              "              testable_students num_test_takers percent_tested combined_avg\n",
              "Fillmore                    241              68           0.28         1389\n",
              "Ojai                        236              77           0.33         1511\n",
              "Oxnard                     4108            1227            0.3         1414\n",
              "Simi_Valley                1532             506           0.33         1597\n",
              "Ventura                    1395             551           0.39         1558\n",
              "Conejo_Valley              1869            1019           0.55         1684\n",
              "Oak_Park                    422             236           0.56         1785\n",
              "Moorpark                    627             276           0.44         1609\n",
              "Santa_Paula                 441             162           0.37         1290\n",
              "Totals                    10871            6749           3.55        13837"
            ]
          },
          "metadata": {
            "tags": []
          },
          "execution_count": 99
        }
      ]
    },
    {
      "cell_type": "code",
      "metadata": {
        "id": "vjNBIW6-d4If",
        "colab_type": "code",
        "colab": {
          "base_uri": "https://localhost:8080/",
          "height": 277
        },
        "outputId": "e1cc5e09-067c-44e4-bdd4-7c51169c9ea0"
      },
      "source": [
        "plt.pie(ventura['num_test_takers'], colors = colors1)\n",
        "\n",
        "my_circle=plt.Circle( (0,0), 0.59, color='white')\n",
        "p=plt.gcf()\n",
        "p.gca().add_artist(my_circle)\n",
        "\n",
        "plt.title(\"From 10,871 Students\") \n",
        "plt.suptitle('Ventura County SAT Participation')\n",
        "\n",
        "plt.savefig('sat_participation_donut', dpi = 300, bbox_inches='tight')\n",
        "plt.show()\n",
        "\n"
      ],
      "execution_count": 113,
      "outputs": [
        {
          "output_type": "display_data",
          "data": {
            "image/png": "[encoded data removed]",
            "text/plain": [
              "<Figure size 432x288 with 1 Axes>"
            ]
          },
          "metadata": {
            "tags": []
          }
        }
      ]
    },
    {
      "cell_type": "code",
      "metadata": {
        "id": "-ICqtyO8pq5u",
        "colab_type": "code",
        "colab": {
          "base_uri": "https://localhost:8080/",
          "height": 204
        },
        "outputId": "518b591a-9e53-4bc9-bcd6-062ec4d78386"
      },
      "source": [
        "ventura.head()"
      ],
      "execution_count": 87,
      "outputs": [
        {
          "output_type": "execute_result",
          "data": {
            "text/html": [
              "<div>\n",
              "<style scoped>\n",
              "    .dataframe tbody tr th:only-of-type {\n",
              "        vertical-align: middle;\n",
              "    }\n",
              "\n",
              "    .dataframe tbody tr th {\n",
              "        vertical-align: top;\n",
              "    }\n",
              "\n",
              "    .dataframe thead th {\n",
              "        text-align: right;\n",
              "    }\n",
              "</style>\n",
              "<table border=\"1\" class=\"dataframe\">\n",
              "  <thead>\n",
              "    <tr style=\"text-align: right;\">\n",
              "      <th></th>\n",
              "      <th>testable_students</th>\n",
              "      <th>num_test_takers</th>\n",
              "      <th>percent_tested</th>\n",
              "      <th>combined_avg</th>\n",
              "    </tr>\n",
              "  </thead>\n",
              "  <tbody>\n",
              "    <tr>\n",
              "      <th>Fillmore</th>\n",
              "      <td>241</td>\n",
              "      <td>68</td>\n",
              "      <td>0.28</td>\n",
              "      <td>1389</td>\n",
              "    </tr>\n",
              "    <tr>\n",
              "      <th>Ojai</th>\n",
              "      <td>236</td>\n",
              "      <td>77</td>\n",
              "      <td>0.33</td>\n",
              "      <td>1511</td>\n",
              "    </tr>\n",
              "    <tr>\n",
              "      <th>Oxnard</th>\n",
              "      <td>4108</td>\n",
              "      <td>1227</td>\n",
              "      <td>0.3</td>\n",
              "      <td>1414</td>\n",
              "    </tr>\n",
              "    <tr>\n",
              "      <th>Simi_Valley</th>\n",
              "      <td>1532</td>\n",
              "      <td>506</td>\n",
              "      <td>0.33</td>\n",
              "      <td>1597</td>\n",
              "    </tr>\n",
              "    <tr>\n",
              "      <th>Ventura</th>\n",
              "      <td>1395</td>\n",
              "      <td>551</td>\n",
              "      <td>0.39</td>\n",
              "      <td>1558</td>\n",
              "    </tr>\n",
              "  </tbody>\n",
              "</table>\n",
              "</div>"
            ],
            "text/plain": [
              "            testable_students num_test_takers percent_tested combined_avg\n",
              "Fillmore                  241              68           0.28         1389\n",
              "Ojai                      236              77           0.33         1511\n",
              "Oxnard                   4108            1227            0.3         1414\n",
              "Simi_Valley              1532             506           0.33         1597\n",
              "Ventura                  1395             551           0.39         1558"
            ]
          },
          "metadata": {
            "tags": []
          },
          "execution_count": 87
        }
      ]
    },
    {
      "cell_type": "code",
      "metadata": {
        "id": "JOCXbY5Npwz3",
        "colab_type": "code",
        "colab": {
          "base_uri": "https://localhost:8080/",
          "height": 68
        },
        "outputId": "d31d5ad2-1266-4e77-d69b-7f2eabe1af76"
      },
      "source": [
        "ventura.index"
      ],
      "execution_count": 88,
      "outputs": [
        {
          "output_type": "execute_result",
          "data": {
            "text/plain": [
              "Index(['Fillmore', 'Ojai', 'Oxnard', 'Simi_Valley', 'Ventura', 'Conejo_Valley',\n",
              "       'Oak_Park', 'Moorpark', 'Santa_Paula', 'Totals'],\n",
              "      dtype='object')"
            ]
          },
          "metadata": {
            "tags": []
          },
          "execution_count": 88
        }
      ]
    },
    {
      "cell_type": "code",
      "metadata": {
        "id": "2jRdiREZrqgB",
        "colab_type": "code",
        "colab": {
          "base_uri": "https://localhost:8080/",
          "height": 359
        },
        "outputId": "70278ba8-3efd-4e7a-dbe3-dd5427516286"
      },
      "source": [
        "ventura"
      ],
      "execution_count": 89,
      "outputs": [
        {
          "output_type": "execute_result",
          "data": {
            "text/html": [
              "<div>\n",
              "<style scoped>\n",
              "    .dataframe tbody tr th:only-of-type {\n",
              "        vertical-align: middle;\n",
              "    }\n",
              "\n",
              "    .dataframe tbody tr th {\n",
              "        vertical-align: top;\n",
              "    }\n",
              "\n",
              "    .dataframe thead th {\n",
              "        text-align: right;\n",
              "    }\n",
              "</style>\n",
              "<table border=\"1\" class=\"dataframe\">\n",
              "  <thead>\n",
              "    <tr style=\"text-align: right;\">\n",
              "      <th></th>\n",
              "      <th>testable_students</th>\n",
              "      <th>num_test_takers</th>\n",
              "      <th>percent_tested</th>\n",
              "      <th>combined_avg</th>\n",
              "    </tr>\n",
              "  </thead>\n",
              "  <tbody>\n",
              "    <tr>\n",
              "      <th>Fillmore</th>\n",
              "      <td>241</td>\n",
              "      <td>68</td>\n",
              "      <td>0.28</td>\n",
              "      <td>1389</td>\n",
              "    </tr>\n",
              "    <tr>\n",
              "      <th>Ojai</th>\n",
              "      <td>236</td>\n",
              "      <td>77</td>\n",
              "      <td>0.33</td>\n",
              "      <td>1511</td>\n",
              "    </tr>\n",
              "    <tr>\n",
              "      <th>Oxnard</th>\n",
              "      <td>4108</td>\n",
              "      <td>1227</td>\n",
              "      <td>0.3</td>\n",
              "      <td>1414</td>\n",
              "    </tr>\n",
              "    <tr>\n",
              "      <th>Simi_Valley</th>\n",
              "      <td>1532</td>\n",
              "      <td>506</td>\n",
              "      <td>0.33</td>\n",
              "      <td>1597</td>\n",
              "    </tr>\n",
              "    <tr>\n",
              "      <th>Ventura</th>\n",
              "      <td>1395</td>\n",
              "      <td>551</td>\n",
              "      <td>0.39</td>\n",
              "      <td>1558</td>\n",
              "    </tr>\n",
              "    <tr>\n",
              "      <th>Conejo_Valley</th>\n",
              "      <td>1869</td>\n",
              "      <td>1019</td>\n",
              "      <td>0.55</td>\n",
              "      <td>1684</td>\n",
              "    </tr>\n",
              "    <tr>\n",
              "      <th>Oak_Park</th>\n",
              "      <td>422</td>\n",
              "      <td>236</td>\n",
              "      <td>0.56</td>\n",
              "      <td>1785</td>\n",
              "    </tr>\n",
              "    <tr>\n",
              "      <th>Moorpark</th>\n",
              "      <td>627</td>\n",
              "      <td>276</td>\n",
              "      <td>0.44</td>\n",
              "      <td>1609</td>\n",
              "    </tr>\n",
              "    <tr>\n",
              "      <th>Santa_Paula</th>\n",
              "      <td>441</td>\n",
              "      <td>162</td>\n",
              "      <td>0.37</td>\n",
              "      <td>1290</td>\n",
              "    </tr>\n",
              "    <tr>\n",
              "      <th>Totals</th>\n",
              "      <td>10871</td>\n",
              "      <td>4122</td>\n",
              "      <td>3.55</td>\n",
              "      <td>13837</td>\n",
              "    </tr>\n",
              "  </tbody>\n",
              "</table>\n",
              "</div>"
            ],
            "text/plain": [
              "              testable_students num_test_takers percent_tested combined_avg\n",
              "Fillmore                    241              68           0.28         1389\n",
              "Ojai                        236              77           0.33         1511\n",
              "Oxnard                     4108            1227            0.3         1414\n",
              "Simi_Valley                1532             506           0.33         1597\n",
              "Ventura                    1395             551           0.39         1558\n",
              "Conejo_Valley              1869            1019           0.55         1684\n",
              "Oak_Park                    422             236           0.56         1785\n",
              "Moorpark                    627             276           0.44         1609\n",
              "Santa_Paula                 441             162           0.37         1290\n",
              "Totals                    10871            4122           3.55        13837"
            ]
          },
          "metadata": {
            "tags": []
          },
          "execution_count": 89
        }
      ]
    },
    {
      "cell_type": "code",
      "metadata": {
        "id": "rBLvY9wwy93K",
        "colab_type": "code",
        "colab": {}
      },
      "source": [
        ""
      ],
      "execution_count": 0,
      "outputs": []
    },
    {
      "cell_type": "code",
      "metadata": {
        "id": "tZU9piW4xXpU",
        "colab_type": "code",
        "colab": {
          "base_uri": "https://localhost:8080/",
          "height": 297
        },
        "outputId": "06a014f9-ca2f-44a4-d697-08ee2188b374"
      },
      "source": [
        "sns.barplot(x = 'percent_tested', y = ventura.index , \n",
        "            data = ventura, \n",
        "            palette=\"Greens_d\", \n",
        "            order=['Fillmore', 'Oxnard', 'Ojai', 'Simi_Valley', \"Santa_Paula\",\n",
        "                   \"Ventura\", \"Moorpark\", \"Conejo_Valley\", \"Oak_Park\",\n",
        "            ]\n",
        "\n",
        ")\n"
      ],
      "execution_count": 90,
      "outputs": [
        {
          "output_type": "execute_result",
          "data": {
            "text/plain": [
              "<matplotlib.axes._subplots.AxesSubplot at 0x7f9518964320>"
            ]
          },
          "metadata": {
            "tags": []
          },
          "execution_count": 90
        },
        {
          "output_type": "display_data",
          "data": {
            "image/png": "[encoded data removed]",
            "text/plain": [
              "<Figure size 432x288 with 1 Axes>"
            ]
          },
          "metadata": {
            "tags": []
          }
        }
      ]
    },
    {
      "cell_type": "code",
      "metadata": {
        "id": "KyqGJS8Kxd3T",
        "colab_type": "code",
        "colab": {
          "base_uri": "https://localhost:8080/",
          "height": 204
        },
        "outputId": "91896d87-cd89-4451-ca93-1297efeaebda"
      },
      "source": [
        "ventura['percent_tested'].sort_values()"
      ],
      "execution_count": 91,
      "outputs": [
        {
          "output_type": "execute_result",
          "data": {
            "text/plain": [
              "Fillmore         0.28\n",
              "Oxnard            0.3\n",
              "Ojai             0.33\n",
              "Simi_Valley      0.33\n",
              "Santa_Paula      0.37\n",
              "Ventura          0.39\n",
              "Moorpark         0.44\n",
              "Conejo_Valley    0.55\n",
              "Oak_Park         0.56\n",
              "Totals           3.55\n",
              "Name: percent_tested, dtype: object"
            ]
          },
          "metadata": {
            "tags": []
          },
          "execution_count": 91
        }
      ]
    },
    {
      "cell_type": "code",
      "metadata": {
        "id": "gpZmyiHeyB_F",
        "colab_type": "code",
        "colab": {
          "base_uri": "https://localhost:8080/",
          "height": 295
        },
        "outputId": "07959988-86a8-4d78-854b-69230236f27d"
      },
      "source": [
        "\n",
        "ax = sns.barplot(x = 'percent_tested', y = ventura.index , \n",
        "            data = ventura, \n",
        "            palette=\"Greens_d\", \n",
        "            order=['Fillmore', 'Oxnard', 'Ojai', 'Simi_Valley', \"Santa_Paula\",\n",
        "                   \"Ventura\", \"Moorpark\", \"Conejo_Valley\", \"Oak_Park\"]\n",
        ")\n",
        "ax.set(xlabel='Percent of Students Taking SAT', ylabel='District')\n",
        "ax.set_xticks([0, .1, .2, .3, .4, .5, .6, .7, .8, .9, 1.0])\n",
        "ax.set_xticklabels(['0', '10', '20', '30', '40', '50', '60', '70', '80', '90', '100%'])\n",
        "ax.set_title('SAT Participation by District')\n",
        "plt.savefig('sat_participation_barplot', dpi = 300, bbox_inches='tight')\n",
        "plt.show()"
      ],
      "execution_count": 114,
      "outputs": [
        {
          "output_type": "display_data",
          "data": {
            "image/png": "[encoded data removed]",
            "text/plain": [
              "<Figure size 432x288 with 1 Axes>"
            ]
          },
          "metadata": {
            "tags": []
          }
        }
      ]
    },
    {
      "cell_type": "code",
      "metadata": {
        "id": "vp7X2J2_qFTp",
        "colab_type": "code",
        "colab": {}
      },
      "source": [
        "\n",
        "colors2 = ['#00FF00','#32CD32','#90EE90','#98FB98','#00FA9A','#00FF7F','#2E8B57','#66CDAA','#3CB371']"
      ],
      "execution_count": 0,
      "outputs": []
    },
    {
      "cell_type": "code",
      "metadata": {
        "id": "2L7XtilSsFD8",
        "colab_type": "code",
        "colab": {}
      },
      "source": [
        "## now lets see how I can put a red line in at 50%\n"
      ],
      "execution_count": 0,
      "outputs": []
    },
    {
      "cell_type": "code",
      "metadata": {
        "colab_type": "code",
        "outputId": "b350cfeb-64a3-4f22-ed52-15ee5d54317c",
        "id": "4NnnDtoFIEKu",
        "colab": {
          "base_uri": "https://localhost:8080/",
          "height": 295
        }
      },
      "source": [
        "\n",
        "ax = sns.barplot(x = 'percent_tested', y = ventura.index , \n",
        "            data = ventura, \n",
        "            palette=\"Greens_d\", \n",
        "            order=['Fillmore', 'Oxnard', 'Ojai', 'Simi_Valley', \"Santa_Paula\",\n",
        "                   \"Ventura\", \"Moorpark\", \"Conejo_Valley\", \"Oak_Park\"]\n",
        ")\n",
        "ax.set(xlabel='Percent of Students Taking SAT', ylabel='District')\n",
        "ax.set_xticks([0, .1, .2, .3, .4, .5, .6, .7, .8, .9, 1.0])\n",
        "ax.set_xticklabels(['0', '10', '20', '30', '40', '50', '60', '70', '80', '90', '100%'])\n",
        "ax.axvline(x = .5, ls='--', c='red')\n",
        "ax.set_title('SAT Participation by District')\n",
        "plt.savefig('sat_participation_barplot', dpi = 300, bbox_inches='tight')\n",
        "plt.show()"
      ],
      "execution_count": 119,
      "outputs": [
        {
          "output_type": "display_data",
          "data": {
            "image/png": "[encoded data removed]",
            "text/plain": [
              "<Figure size 432x288 with 1 Axes>"
            ]
          },
          "metadata": {
            "tags": []
          }
        }
      ]
    },
    {
      "cell_type": "code",
      "metadata": {
        "id": "H8a66oXAOhnM",
        "colab_type": "code",
        "colab": {}
      },
      "source": [
        ""
      ],
      "execution_count": 0,
      "outputs": []
    }
  ]
}